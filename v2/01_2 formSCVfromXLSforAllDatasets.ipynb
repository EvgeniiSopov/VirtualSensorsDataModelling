{
 "cells": [
  {
   "cell_type": "markdown",
   "metadata": {},
   "source": [
    "# скрипт #01 v2\n",
    "<hr>"
   ]
  },
  {
   "cell_type": "markdown",
   "metadata": {},
   "source": [
    "# страндарные библиотеки для работы"
   ]
  },
  {
   "cell_type": "code",
   "execution_count": 1,
   "metadata": {},
   "outputs": [],
   "source": [
    "import numpy as np \n",
    "import pandas as pd\n",
    "import matplotlib.pyplot as plt "
   ]
  },
  {
   "cell_type": "code",
   "execution_count": 7,
   "metadata": {},
   "outputs": [],
   "source": [
    "import warnings\n",
    "warnings.filterwarnings('ignore')\n",
    "warnings.simplefilter('ignore')"
   ]
  },
  {
   "cell_type": "markdown",
   "metadata": {},
   "source": [
    "# импорт сырых даных из XLS"
   ]
  },
  {
   "cell_type": "code",
   "execution_count": 2,
   "metadata": {},
   "outputs": [],
   "source": [
    "# имена для аттрибутов\n",
    "columnNames=['AE1', 'AE2', 'AE3',\n",
    "            'TIME1', 'TIME2', 'TIME3', 'TIME4', 'TIME5',\n",
    "            'KOL1', 'KOL2', 'KOL3', 'KOL4',\n",
    "            'U1', 'U2',\n",
    "            'NAST', 'POD',\n",
    "            'RMPR1', 'RMPR2', 'RMPR3', 'RMPR4', 'RMPR5',\n",
    "            'ETEMP', 'METAL', 'ELEVEL', 'NOISE', 'ERATE',\n",
    "            'EKO', 'AIF3', 'UANOD']\n",
    "fullNames=['АЭ: длит. <Сред.>', 'АЭ: кол-во <Сред.>', 'АЭ: напр. ср.м. <Сред.>(В)',\n",
    "            'Время в недопитке <Сред.> (час)', 'Время в номинале <Сред.> (час)',\n",
    "            'Время  в перепитке <Сред.> (час)', 'Время в тесте <Сред.> (час)', \n",
    "            'Время на голод. <Сред.> (час)', 'Кол-во доз АПГ в недопитке <Сумма> (шт.)',\n",
    "            'Кол-во доз АПГ в номинале <Сумма> (шт.)', 'Кол-во доз АПГ в перепитке <Сумма> (шт.)',\n",
    "            'Кол-во доз АПГ в тесте <Сумма> (шт.)', 'Напр. зад. <Сред.> (В)', 'Напр. эл-ра <Сред.> (В)',\n",
    "            'Настыль: длина <Сред.> (см)', 'Подина: состояние <Сред.> (оц.)', \n",
    "            'РМПР: длит. ВИРА <Сред.> (сек)', 'РМПР: длит. МАЙНА <Сред.> (сек)', \n",
    "            'РМПР: коэфф. <Сред.>', 'РМПР: кол-во ВИРА <Сред.> (шт)', 'РМПР: кол-во МАЙНА <Сред.> (шт)',\n",
    "            'Эл-лит: темп-ра <Сред.> (°C)', 'Металл: уровень <Сред.> (см)', 'Эл-лит: уровень <Сред.> (см)', \n",
    "            'Шум <Сред.> (В)', 'Эл-лит: CaF2 <Сред.> (%)', 'Эл-лит: КО <Сред.>', 'AlF3: добавка <Сред.> (кг)',\n",
    "            'Напр. анода <Сред.> (В)' ]"
   ]
  },
  {
   "cell_type": "code",
   "execution_count": 8,
   "metadata": {},
   "outputs": [
    {
     "output_type": "stream",
     "name": "stdout",
     "text": "WARNING *** OLE2 inconsistency: SSCS size is 0 but SSAT size is non-zero\nWARNING *** OLE2 inconsistency: SSCS size is 0 but SSAT size is non-zero\nWARNING *** file size (153756) not 512 + multiple of sector size (512)\nWARNING *** OLE2 inconsistency: SSCS size is 0 but SSAT size is non-zero\nWARNING *** file size (153825) not 512 + multiple of sector size (512)\nWARNING *** OLE2 inconsistency: SSCS size is 0 but SSAT size is non-zero\nWARNING *** file size (153047) not 512 + multiple of sector size (512)\nWARNING *** OLE2 inconsistency: SSCS size is 0 but SSAT size is non-zero\n"
    }
   ],
   "source": [
    "# чтение из файлов\n",
    "rawData1001=pd.read_excel('../ITC RUSAL/raw data/bath_1001_2019.xls',\n",
    "                    header=None, skiprows=5, usecols='B:AD')\n",
    "rawData1003=pd.read_excel('../ITC RUSAL/raw data/bath_1003_2019.xls',\n",
    "                    header=None, skiprows=5, usecols='B:AD')\n",
    "rawData1004=pd.read_excel('../ITC RUSAL/raw data/bath_1004_2019.xls',\n",
    "                    header=None, skiprows=5, usecols='B:AD')\n",
    "rawData1005=pd.read_excel('../ITC RUSAL/raw data/bath_1005_2019.xls',\n",
    "                    header=None, skiprows=5, usecols='B:AD')\n",
    "rawData1006=pd.read_excel('../ITC RUSAL/raw data/bath_1006_2019.xls',\n",
    "                    header=None, skiprows=5, usecols='B:AD')"
   ]
  },
  {
   "cell_type": "code",
   "execution_count": 9,
   "metadata": {},
   "outputs": [],
   "source": [
    "# переименование столбцов\n",
    "rawData1001.columns=columnNames\n",
    "rawData1003.columns=columnNames \n",
    "rawData1004.columns=columnNames \n",
    "rawData1005.columns=columnNames \n",
    "rawData1006.columns=columnNames "
   ]
  },
  {
   "cell_type": "markdown",
   "metadata": {},
   "source": [
    "# визуальная проверка корректности импорта сырых данных\n",
    "# должно быть 365 записей (по кол-ву дней в году), 29 столбцов"
   ]
  },
  {
   "cell_type": "code",
   "execution_count": 10,
   "metadata": {},
   "outputs": [
    {
     "output_type": "execute_result",
     "data": {
      "text/plain": "   AE1  AE2   AE3  TIME1  TIME2  TIME3  TIME4  TIME5  KOL1  KOL2  ...  RMPR4  \\\n0  1.7    1  45.0   10.7    4.8    6.5      0    1.1   371   466  ...      6   \n1  NaN    0   NaN   12.2    4.7    7.1      0    NaN   392   517  ...      2   \n2  NaN    0   NaN   11.3    4.7    7.5      0    NaN   368   478  ...      1   \n3  NaN    0   NaN    9.8    5.8    8.3      0    NaN   311   553  ...      3   \n4  0.3    1  40.0    9.0    7.4    7.7      0    NaN   298   732  ...      4   \n\n   RMPR5  ETEMP  METAL  ELEVEL  NOISE  ERATE   EKO  AIF3  UANOD  \n0      9  955.0   40.0    17.0  0.035    NaN   NaN  32.0  0.422  \n1      5  959.0   40.0    17.0  0.036   7.68  2.48  32.0  0.400  \n2      0  959.0   40.0    17.0  0.034    NaN   NaN  30.0  0.391  \n3      2  957.0   40.0    18.0  0.034    NaN   NaN  30.0  0.370  \n4      8  957.0   40.0    17.0  0.035   7.87  2.39  32.5  0.421  \n\n[5 rows x 29 columns]",
      "text/html": "<div>\n<style scoped>\n    .dataframe tbody tr th:only-of-type {\n        vertical-align: middle;\n    }\n\n    .dataframe tbody tr th {\n        vertical-align: top;\n    }\n\n    .dataframe thead th {\n        text-align: right;\n    }\n</style>\n<table border=\"1\" class=\"dataframe\">\n  <thead>\n    <tr style=\"text-align: right;\">\n      <th></th>\n      <th>AE1</th>\n      <th>AE2</th>\n      <th>AE3</th>\n      <th>TIME1</th>\n      <th>TIME2</th>\n      <th>TIME3</th>\n      <th>TIME4</th>\n      <th>TIME5</th>\n      <th>KOL1</th>\n      <th>KOL2</th>\n      <th>...</th>\n      <th>RMPR4</th>\n      <th>RMPR5</th>\n      <th>ETEMP</th>\n      <th>METAL</th>\n      <th>ELEVEL</th>\n      <th>NOISE</th>\n      <th>ERATE</th>\n      <th>EKO</th>\n      <th>AIF3</th>\n      <th>UANOD</th>\n    </tr>\n  </thead>\n  <tbody>\n    <tr>\n      <th>0</th>\n      <td>1.7</td>\n      <td>1</td>\n      <td>45.0</td>\n      <td>10.7</td>\n      <td>4.8</td>\n      <td>6.5</td>\n      <td>0</td>\n      <td>1.1</td>\n      <td>371</td>\n      <td>466</td>\n      <td>...</td>\n      <td>6</td>\n      <td>9</td>\n      <td>955.0</td>\n      <td>40.0</td>\n      <td>17.0</td>\n      <td>0.035</td>\n      <td>NaN</td>\n      <td>NaN</td>\n      <td>32.0</td>\n      <td>0.422</td>\n    </tr>\n    <tr>\n      <th>1</th>\n      <td>NaN</td>\n      <td>0</td>\n      <td>NaN</td>\n      <td>12.2</td>\n      <td>4.7</td>\n      <td>7.1</td>\n      <td>0</td>\n      <td>NaN</td>\n      <td>392</td>\n      <td>517</td>\n      <td>...</td>\n      <td>2</td>\n      <td>5</td>\n      <td>959.0</td>\n      <td>40.0</td>\n      <td>17.0</td>\n      <td>0.036</td>\n      <td>7.68</td>\n      <td>2.48</td>\n      <td>32.0</td>\n      <td>0.400</td>\n    </tr>\n    <tr>\n      <th>2</th>\n      <td>NaN</td>\n      <td>0</td>\n      <td>NaN</td>\n      <td>11.3</td>\n      <td>4.7</td>\n      <td>7.5</td>\n      <td>0</td>\n      <td>NaN</td>\n      <td>368</td>\n      <td>478</td>\n      <td>...</td>\n      <td>1</td>\n      <td>0</td>\n      <td>959.0</td>\n      <td>40.0</td>\n      <td>17.0</td>\n      <td>0.034</td>\n      <td>NaN</td>\n      <td>NaN</td>\n      <td>30.0</td>\n      <td>0.391</td>\n    </tr>\n    <tr>\n      <th>3</th>\n      <td>NaN</td>\n      <td>0</td>\n      <td>NaN</td>\n      <td>9.8</td>\n      <td>5.8</td>\n      <td>8.3</td>\n      <td>0</td>\n      <td>NaN</td>\n      <td>311</td>\n      <td>553</td>\n      <td>...</td>\n      <td>3</td>\n      <td>2</td>\n      <td>957.0</td>\n      <td>40.0</td>\n      <td>18.0</td>\n      <td>0.034</td>\n      <td>NaN</td>\n      <td>NaN</td>\n      <td>30.0</td>\n      <td>0.370</td>\n    </tr>\n    <tr>\n      <th>4</th>\n      <td>0.3</td>\n      <td>1</td>\n      <td>40.0</td>\n      <td>9.0</td>\n      <td>7.4</td>\n      <td>7.7</td>\n      <td>0</td>\n      <td>NaN</td>\n      <td>298</td>\n      <td>732</td>\n      <td>...</td>\n      <td>4</td>\n      <td>8</td>\n      <td>957.0</td>\n      <td>40.0</td>\n      <td>17.0</td>\n      <td>0.035</td>\n      <td>7.87</td>\n      <td>2.39</td>\n      <td>32.5</td>\n      <td>0.421</td>\n    </tr>\n  </tbody>\n</table>\n<p>5 rows × 29 columns</p>\n</div>"
     },
     "metadata": {},
     "execution_count": 10
    }
   ],
   "source": [
    "rawData1001.head()"
   ]
  },
  {
   "cell_type": "code",
   "execution_count": 11,
   "metadata": {},
   "outputs": [
    {
     "output_type": "execute_result",
     "data": {
      "text/plain": "     AE1  AE2   AE3  TIME1  TIME2  TIME3  TIME4  TIME5  KOL1  KOL2  ...  \\\n360  2.7    1  56.0   11.6    4.6    5.5      0    0.9   370   412  ...   \n361  NaN    0   NaN   13.3    4.7    6.0      0    NaN   413   448  ...   \n362  NaN    0   NaN   11.5    5.0    7.0      0    NaN   377   457  ...   \n363  NaN    0   NaN   14.2    3.7    6.0      0    NaN   560   477  ...   \n364  1.4    1  61.0   14.2    5.5    4.3      0    NaN   506   627  ...   \n\n     RMPR4  RMPR5  ETEMP  METAL  ELEVEL  NOISE  ERATE   EKO  AIF3  UANOD  \n360      1     11  948.0   42.0    18.0  0.023    NaN   NaN   0.0  0.428  \n361      5      7  946.0   43.0    16.0  0.022   7.13  2.33   0.0  0.408  \n362      1      3  949.0   42.0    17.0  0.023    NaN   NaN  42.5  0.391  \n363      2      4  951.0   42.0    18.0  0.024   7.05  2.42  35.0  0.386  \n364      7      6  958.0   42.0    18.0  0.025    NaN   NaN  50.0  0.467  \n\n[5 rows x 29 columns]",
      "text/html": "<div>\n<style scoped>\n    .dataframe tbody tr th:only-of-type {\n        vertical-align: middle;\n    }\n\n    .dataframe tbody tr th {\n        vertical-align: top;\n    }\n\n    .dataframe thead th {\n        text-align: right;\n    }\n</style>\n<table border=\"1\" class=\"dataframe\">\n  <thead>\n    <tr style=\"text-align: right;\">\n      <th></th>\n      <th>AE1</th>\n      <th>AE2</th>\n      <th>AE3</th>\n      <th>TIME1</th>\n      <th>TIME2</th>\n      <th>TIME3</th>\n      <th>TIME4</th>\n      <th>TIME5</th>\n      <th>KOL1</th>\n      <th>KOL2</th>\n      <th>...</th>\n      <th>RMPR4</th>\n      <th>RMPR5</th>\n      <th>ETEMP</th>\n      <th>METAL</th>\n      <th>ELEVEL</th>\n      <th>NOISE</th>\n      <th>ERATE</th>\n      <th>EKO</th>\n      <th>AIF3</th>\n      <th>UANOD</th>\n    </tr>\n  </thead>\n  <tbody>\n    <tr>\n      <th>360</th>\n      <td>2.7</td>\n      <td>1</td>\n      <td>56.0</td>\n      <td>11.6</td>\n      <td>4.6</td>\n      <td>5.5</td>\n      <td>0</td>\n      <td>0.9</td>\n      <td>370</td>\n      <td>412</td>\n      <td>...</td>\n      <td>1</td>\n      <td>11</td>\n      <td>948.0</td>\n      <td>42.0</td>\n      <td>18.0</td>\n      <td>0.023</td>\n      <td>NaN</td>\n      <td>NaN</td>\n      <td>0.0</td>\n      <td>0.428</td>\n    </tr>\n    <tr>\n      <th>361</th>\n      <td>NaN</td>\n      <td>0</td>\n      <td>NaN</td>\n      <td>13.3</td>\n      <td>4.7</td>\n      <td>6.0</td>\n      <td>0</td>\n      <td>NaN</td>\n      <td>413</td>\n      <td>448</td>\n      <td>...</td>\n      <td>5</td>\n      <td>7</td>\n      <td>946.0</td>\n      <td>43.0</td>\n      <td>16.0</td>\n      <td>0.022</td>\n      <td>7.13</td>\n      <td>2.33</td>\n      <td>0.0</td>\n      <td>0.408</td>\n    </tr>\n    <tr>\n      <th>362</th>\n      <td>NaN</td>\n      <td>0</td>\n      <td>NaN</td>\n      <td>11.5</td>\n      <td>5.0</td>\n      <td>7.0</td>\n      <td>0</td>\n      <td>NaN</td>\n      <td>377</td>\n      <td>457</td>\n      <td>...</td>\n      <td>1</td>\n      <td>3</td>\n      <td>949.0</td>\n      <td>42.0</td>\n      <td>17.0</td>\n      <td>0.023</td>\n      <td>NaN</td>\n      <td>NaN</td>\n      <td>42.5</td>\n      <td>0.391</td>\n    </tr>\n    <tr>\n      <th>363</th>\n      <td>NaN</td>\n      <td>0</td>\n      <td>NaN</td>\n      <td>14.2</td>\n      <td>3.7</td>\n      <td>6.0</td>\n      <td>0</td>\n      <td>NaN</td>\n      <td>560</td>\n      <td>477</td>\n      <td>...</td>\n      <td>2</td>\n      <td>4</td>\n      <td>951.0</td>\n      <td>42.0</td>\n      <td>18.0</td>\n      <td>0.024</td>\n      <td>7.05</td>\n      <td>2.42</td>\n      <td>35.0</td>\n      <td>0.386</td>\n    </tr>\n    <tr>\n      <th>364</th>\n      <td>1.4</td>\n      <td>1</td>\n      <td>61.0</td>\n      <td>14.2</td>\n      <td>5.5</td>\n      <td>4.3</td>\n      <td>0</td>\n      <td>NaN</td>\n      <td>506</td>\n      <td>627</td>\n      <td>...</td>\n      <td>7</td>\n      <td>6</td>\n      <td>958.0</td>\n      <td>42.0</td>\n      <td>18.0</td>\n      <td>0.025</td>\n      <td>NaN</td>\n      <td>NaN</td>\n      <td>50.0</td>\n      <td>0.467</td>\n    </tr>\n  </tbody>\n</table>\n<p>5 rows × 29 columns</p>\n</div>"
     },
     "metadata": {},
     "execution_count": 11
    }
   ],
   "source": [
    "rawData1001.tail()"
   ]
  },
  {
   "cell_type": "code",
   "execution_count": 12,
   "metadata": {},
   "outputs": [
    {
     "output_type": "stream",
     "name": "stdout",
     "text": "<class 'pandas.core.frame.DataFrame'>\nRangeIndex: 365 entries, 0 to 364\nColumns: 29 entries, AE1 to UANOD\ndtypes: float64(22), int64(7)\nmemory usage: 82.8 KB\n"
    }
   ],
   "source": [
    "rawData1001.info(verbose=False)"
   ]
  },
  {
   "cell_type": "code",
   "execution_count": 13,
   "metadata": {},
   "outputs": [
    {
     "output_type": "stream",
     "name": "stdout",
     "text": "Ванна 1001\nСтолбцы, в которых нет ниодного значения:\nIndex(['KOL4'], dtype='object')\nСтолбцы, в которых пропущено более 90% данных:\nIndex(['KOL4'], dtype='object')\nСтолбцы, в которых пропущено более 80% данных:\nIndex(['KOL4', 'NAST', 'POD'], dtype='object')\nСтолбцы, в которых пропущено более 70% данных:\nIndex(['KOL4', 'NAST', 'POD'], dtype='object')\nСтолбцы, в которых пропущено более 60% данных:\nIndex(['AE1', 'AE3', 'TIME5', 'KOL4', 'NAST', 'POD'], dtype='object')\nСтолбцы, в которых пропущено более 50% данных:\nIndex(['AE1', 'AE3', 'TIME5', 'KOL4', 'NAST', 'POD', 'ERATE', 'EKO'], dtype='object')\n"
    }
   ],
   "source": [
    "print(\"Ванна 1001\")\n",
    "print(\"Столбцы, в которых нет ниодного значения:\")\n",
    "print(rawData1001.columns[rawData1001.isnull().sum()==365])\n",
    "print(\"Столбцы, в которых пропущено более 90% данных:\")\n",
    "print(rawData1001.columns[rawData1001.isnull().sum()>=(0.9*365)])\n",
    "print(\"Столбцы, в которых пропущено более 80% данных:\")\n",
    "print(rawData1001.columns[rawData1001.isnull().sum()>=(0.8*365)])\n",
    "print(\"Столбцы, в которых пропущено более 70% данных:\")\n",
    "print(rawData1001.columns[rawData1001.isnull().sum()>=(0.7*365)])\n",
    "print(\"Столбцы, в которых пропущено более 60% данных:\")\n",
    "print(rawData1001.columns[rawData1001.isnull().sum()>=(0.6*365)])\n",
    "print(\"Столбцы, в которых пропущено более 50% данных:\")\n",
    "print(rawData1001.columns[rawData1001.isnull().sum()>=(0.5*365)])"
   ]
  },
  {
   "cell_type": "code",
   "execution_count": 14,
   "metadata": {},
   "outputs": [
    {
     "output_type": "execute_result",
     "data": {
      "text/plain": "   AE1  AE2   AE3  TIME1  TIME2  TIME3  TIME4  TIME5   KOL1  KOL2  ...  RMPR4  \\\n0  2.1    1  50.0   10.5    5.8    6.4      0    0.7  323.0   502  ...      0   \n1  NaN    0   NaN   10.3    5.4    8.3      0    NaN  308.0   502  ...      1   \n2  NaN    0   NaN    9.9    5.5    8.2      0    NaN  277.0   514  ...      1   \n3  NaN    0   NaN    8.7    6.3    9.0      0    NaN  252.0   532  ...      1   \n4  NaN    0   NaN    9.4    6.3    7.9      0    NaN  283.0   548  ...      1   \n\n   RMPR5  ETEMP  METAL  ELEVEL  NOISE  ERATE   EKO  AIF3  UANOD  \n0      6  950.0   40.0    18.0  0.031    NaN   NaN  52.0  0.425  \n1      3  954.0   40.0    16.0  0.030   7.76  2.42  52.0  0.357  \n2      0  955.0   40.0    16.0  0.030    NaN   NaN  69.0  0.351  \n3      2  952.0   41.0    16.0  0.030    NaN   NaN  55.0  0.340  \n4      2  951.0   41.0    15.0  0.029   7.49  2.37   0.0  0.375  \n\n[5 rows x 29 columns]",
      "text/html": "<div>\n<style scoped>\n    .dataframe tbody tr th:only-of-type {\n        vertical-align: middle;\n    }\n\n    .dataframe tbody tr th {\n        vertical-align: top;\n    }\n\n    .dataframe thead th {\n        text-align: right;\n    }\n</style>\n<table border=\"1\" class=\"dataframe\">\n  <thead>\n    <tr style=\"text-align: right;\">\n      <th></th>\n      <th>AE1</th>\n      <th>AE2</th>\n      <th>AE3</th>\n      <th>TIME1</th>\n      <th>TIME2</th>\n      <th>TIME3</th>\n      <th>TIME4</th>\n      <th>TIME5</th>\n      <th>KOL1</th>\n      <th>KOL2</th>\n      <th>...</th>\n      <th>RMPR4</th>\n      <th>RMPR5</th>\n      <th>ETEMP</th>\n      <th>METAL</th>\n      <th>ELEVEL</th>\n      <th>NOISE</th>\n      <th>ERATE</th>\n      <th>EKO</th>\n      <th>AIF3</th>\n      <th>UANOD</th>\n    </tr>\n  </thead>\n  <tbody>\n    <tr>\n      <th>0</th>\n      <td>2.1</td>\n      <td>1</td>\n      <td>50.0</td>\n      <td>10.5</td>\n      <td>5.8</td>\n      <td>6.4</td>\n      <td>0</td>\n      <td>0.7</td>\n      <td>323.0</td>\n      <td>502</td>\n      <td>...</td>\n      <td>0</td>\n      <td>6</td>\n      <td>950.0</td>\n      <td>40.0</td>\n      <td>18.0</td>\n      <td>0.031</td>\n      <td>NaN</td>\n      <td>NaN</td>\n      <td>52.0</td>\n      <td>0.425</td>\n    </tr>\n    <tr>\n      <th>1</th>\n      <td>NaN</td>\n      <td>0</td>\n      <td>NaN</td>\n      <td>10.3</td>\n      <td>5.4</td>\n      <td>8.3</td>\n      <td>0</td>\n      <td>NaN</td>\n      <td>308.0</td>\n      <td>502</td>\n      <td>...</td>\n      <td>1</td>\n      <td>3</td>\n      <td>954.0</td>\n      <td>40.0</td>\n      <td>16.0</td>\n      <td>0.030</td>\n      <td>7.76</td>\n      <td>2.42</td>\n      <td>52.0</td>\n      <td>0.357</td>\n    </tr>\n    <tr>\n      <th>2</th>\n      <td>NaN</td>\n      <td>0</td>\n      <td>NaN</td>\n      <td>9.9</td>\n      <td>5.5</td>\n      <td>8.2</td>\n      <td>0</td>\n      <td>NaN</td>\n      <td>277.0</td>\n      <td>514</td>\n      <td>...</td>\n      <td>1</td>\n      <td>0</td>\n      <td>955.0</td>\n      <td>40.0</td>\n      <td>16.0</td>\n      <td>0.030</td>\n      <td>NaN</td>\n      <td>NaN</td>\n      <td>69.0</td>\n      <td>0.351</td>\n    </tr>\n    <tr>\n      <th>3</th>\n      <td>NaN</td>\n      <td>0</td>\n      <td>NaN</td>\n      <td>8.7</td>\n      <td>6.3</td>\n      <td>9.0</td>\n      <td>0</td>\n      <td>NaN</td>\n      <td>252.0</td>\n      <td>532</td>\n      <td>...</td>\n      <td>1</td>\n      <td>2</td>\n      <td>952.0</td>\n      <td>41.0</td>\n      <td>16.0</td>\n      <td>0.030</td>\n      <td>NaN</td>\n      <td>NaN</td>\n      <td>55.0</td>\n      <td>0.340</td>\n    </tr>\n    <tr>\n      <th>4</th>\n      <td>NaN</td>\n      <td>0</td>\n      <td>NaN</td>\n      <td>9.4</td>\n      <td>6.3</td>\n      <td>7.9</td>\n      <td>0</td>\n      <td>NaN</td>\n      <td>283.0</td>\n      <td>548</td>\n      <td>...</td>\n      <td>1</td>\n      <td>2</td>\n      <td>951.0</td>\n      <td>41.0</td>\n      <td>15.0</td>\n      <td>0.029</td>\n      <td>7.49</td>\n      <td>2.37</td>\n      <td>0.0</td>\n      <td>0.375</td>\n    </tr>\n  </tbody>\n</table>\n<p>5 rows × 29 columns</p>\n</div>"
     },
     "metadata": {},
     "execution_count": 14
    }
   ],
   "source": [
    "rawData1003.head()"
   ]
  },
  {
   "cell_type": "code",
   "execution_count": 15,
   "metadata": {},
   "outputs": [
    {
     "output_type": "execute_result",
     "data": {
      "text/plain": "     AE1  AE2   AE3  TIME1  TIME2  TIME3  TIME4  TIME5   KOL1  KOL2  ...  \\\n360  1.9    1  50.0    9.2    5.0    6.5      0    2.3  237.0   407  ...   \n361  NaN    0   NaN    8.5    6.3    9.2      0    NaN  191.0   511  ...   \n362  NaN    0   NaN    8.2    6.1    9.3      0    NaN  227.0   546  ...   \n363  NaN    0   NaN    9.5    6.3    8.2      0    NaN  321.0   638  ...   \n364  NaN    0   NaN    9.5    5.7    8.5      0    NaN  279.0   552  ...   \n\n     RMPR4  RMPR5  ETEMP  METAL  ELEVEL  NOISE  ERATE   EKO  AIF3  UANOD  \n360      1      5  944.0   43.0    19.0  0.022    NaN   NaN   0.0  0.392  \n361      3      3  934.0   42.0    17.0  0.026   7.89  2.24   0.0  0.357  \n362      1      3  951.0   42.0    17.0  0.028    NaN   NaN   0.0  0.353  \n363      2      3  949.0   42.0    18.0  0.022   7.85  2.31   0.0  0.387  \n364      3      3  951.0   42.0    17.0  0.023    NaN   NaN   0.0  0.445  \n\n[5 rows x 29 columns]",
      "text/html": "<div>\n<style scoped>\n    .dataframe tbody tr th:only-of-type {\n        vertical-align: middle;\n    }\n\n    .dataframe tbody tr th {\n        vertical-align: top;\n    }\n\n    .dataframe thead th {\n        text-align: right;\n    }\n</style>\n<table border=\"1\" class=\"dataframe\">\n  <thead>\n    <tr style=\"text-align: right;\">\n      <th></th>\n      <th>AE1</th>\n      <th>AE2</th>\n      <th>AE3</th>\n      <th>TIME1</th>\n      <th>TIME2</th>\n      <th>TIME3</th>\n      <th>TIME4</th>\n      <th>TIME5</th>\n      <th>KOL1</th>\n      <th>KOL2</th>\n      <th>...</th>\n      <th>RMPR4</th>\n      <th>RMPR5</th>\n      <th>ETEMP</th>\n      <th>METAL</th>\n      <th>ELEVEL</th>\n      <th>NOISE</th>\n      <th>ERATE</th>\n      <th>EKO</th>\n      <th>AIF3</th>\n      <th>UANOD</th>\n    </tr>\n  </thead>\n  <tbody>\n    <tr>\n      <th>360</th>\n      <td>1.9</td>\n      <td>1</td>\n      <td>50.0</td>\n      <td>9.2</td>\n      <td>5.0</td>\n      <td>6.5</td>\n      <td>0</td>\n      <td>2.3</td>\n      <td>237.0</td>\n      <td>407</td>\n      <td>...</td>\n      <td>1</td>\n      <td>5</td>\n      <td>944.0</td>\n      <td>43.0</td>\n      <td>19.0</td>\n      <td>0.022</td>\n      <td>NaN</td>\n      <td>NaN</td>\n      <td>0.0</td>\n      <td>0.392</td>\n    </tr>\n    <tr>\n      <th>361</th>\n      <td>NaN</td>\n      <td>0</td>\n      <td>NaN</td>\n      <td>8.5</td>\n      <td>6.3</td>\n      <td>9.2</td>\n      <td>0</td>\n      <td>NaN</td>\n      <td>191.0</td>\n      <td>511</td>\n      <td>...</td>\n      <td>3</td>\n      <td>3</td>\n      <td>934.0</td>\n      <td>42.0</td>\n      <td>17.0</td>\n      <td>0.026</td>\n      <td>7.89</td>\n      <td>2.24</td>\n      <td>0.0</td>\n      <td>0.357</td>\n    </tr>\n    <tr>\n      <th>362</th>\n      <td>NaN</td>\n      <td>0</td>\n      <td>NaN</td>\n      <td>8.2</td>\n      <td>6.1</td>\n      <td>9.3</td>\n      <td>0</td>\n      <td>NaN</td>\n      <td>227.0</td>\n      <td>546</td>\n      <td>...</td>\n      <td>1</td>\n      <td>3</td>\n      <td>951.0</td>\n      <td>42.0</td>\n      <td>17.0</td>\n      <td>0.028</td>\n      <td>NaN</td>\n      <td>NaN</td>\n      <td>0.0</td>\n      <td>0.353</td>\n    </tr>\n    <tr>\n      <th>363</th>\n      <td>NaN</td>\n      <td>0</td>\n      <td>NaN</td>\n      <td>9.5</td>\n      <td>6.3</td>\n      <td>8.2</td>\n      <td>0</td>\n      <td>NaN</td>\n      <td>321.0</td>\n      <td>638</td>\n      <td>...</td>\n      <td>2</td>\n      <td>3</td>\n      <td>949.0</td>\n      <td>42.0</td>\n      <td>18.0</td>\n      <td>0.022</td>\n      <td>7.85</td>\n      <td>2.31</td>\n      <td>0.0</td>\n      <td>0.387</td>\n    </tr>\n    <tr>\n      <th>364</th>\n      <td>NaN</td>\n      <td>0</td>\n      <td>NaN</td>\n      <td>9.5</td>\n      <td>5.7</td>\n      <td>8.5</td>\n      <td>0</td>\n      <td>NaN</td>\n      <td>279.0</td>\n      <td>552</td>\n      <td>...</td>\n      <td>3</td>\n      <td>3</td>\n      <td>951.0</td>\n      <td>42.0</td>\n      <td>17.0</td>\n      <td>0.023</td>\n      <td>NaN</td>\n      <td>NaN</td>\n      <td>0.0</td>\n      <td>0.445</td>\n    </tr>\n  </tbody>\n</table>\n<p>5 rows × 29 columns</p>\n</div>"
     },
     "metadata": {},
     "execution_count": 15
    }
   ],
   "source": [
    "rawData1003.tail()"
   ]
  },
  {
   "cell_type": "code",
   "execution_count": 16,
   "metadata": {},
   "outputs": [
    {
     "output_type": "stream",
     "name": "stdout",
     "text": "<class 'pandas.core.frame.DataFrame'>\nRangeIndex: 365 entries, 0 to 364\nColumns: 29 entries, AE1 to UANOD\ndtypes: float64(23), int64(6)\nmemory usage: 82.8 KB\n"
    }
   ],
   "source": [
    "rawData1003.info(verbose=False)"
   ]
  },
  {
   "cell_type": "code",
   "execution_count": 17,
   "metadata": {},
   "outputs": [
    {
     "output_type": "stream",
     "name": "stdout",
     "text": "Ванна 1003\nСтолбцы, в которых нет ниодного значения:\nIndex(['KOL4'], dtype='object')\nСтолбцы, в которых пропущено более 90% данных:\nIndex(['KOL4'], dtype='object')\nСтолбцы, в которых пропущено более 80% данных:\nIndex(['KOL4', 'NAST', 'POD'], dtype='object')\nСтолбцы, в которых пропущено более 70% данных:\nIndex(['TIME5', 'KOL4', 'NAST', 'POD'], dtype='object')\nСтолбцы, в которых пропущено более 60% данных:\nIndex(['AE1', 'AE3', 'TIME5', 'KOL4', 'NAST', 'POD'], dtype='object')\nСтолбцы, в которых пропущено более 50% данных:\nIndex(['AE1', 'AE3', 'TIME5', 'KOL4', 'NAST', 'POD', 'ERATE', 'EKO'], dtype='object')\n"
    }
   ],
   "source": [
    "print(\"Ванна 1003\")\n",
    "print(\"Столбцы, в которых нет ниодного значения:\")\n",
    "print(rawData1003.columns[rawData1003.isnull().sum()==365])\n",
    "print(\"Столбцы, в которых пропущено более 90% данных:\")\n",
    "print(rawData1003.columns[rawData1003.isnull().sum()>=(0.9*365)])\n",
    "print(\"Столбцы, в которых пропущено более 80% данных:\")\n",
    "print(rawData1003.columns[rawData1003.isnull().sum()>=(0.8*365)])\n",
    "print(\"Столбцы, в которых пропущено более 70% данных:\")\n",
    "print(rawData1003.columns[rawData1003.isnull().sum()>=(0.7*365)])\n",
    "print(\"Столбцы, в которых пропущено более 60% данных:\")\n",
    "print(rawData1003.columns[rawData1003.isnull().sum()>=(0.6*365)])\n",
    "print(\"Столбцы, в которых пропущено более 50% данных:\")\n",
    "print(rawData1003.columns[rawData1003.isnull().sum()>=(0.5*365)])"
   ]
  },
  {
   "cell_type": "code",
   "execution_count": 18,
   "metadata": {},
   "outputs": [
    {
     "output_type": "execute_result",
     "data": {
      "text/plain": "   AE1  AE2   AE3  TIME1  TIME2  TIME3  TIME4  TIME5  KOL1  KOL2  ...  RMPR4  \\\n0  1.8    1  39.0   11.5    4.6    6.1      0    1.3   446   494  ...      1   \n1  NaN    0   NaN    9.5    5.0    9.0      0    NaN   292   443  ...      2   \n2  NaN    0   NaN    8.5    5.7    9.3      0    NaN   230   526  ...      0   \n3  NaN    0   NaN    8.9    5.0    9.6      0    NaN   240   428  ...      1   \n4  NaN    0   NaN    7.8    6.5    9.6      0    NaN   251   605  ...      2   \n\n   RMPR5  ETEMP  METAL  ELEVEL  NOISE  ERATE   EKO  AIF3  UANOD  \n0      7  952.0   37.0    17.0  0.022    NaN   NaN  52.0  0.317  \n1      7  957.0   38.0    17.0  0.022   7.56  2.40  32.0  0.280  \n2      1  957.0   38.0    16.0  0.023    NaN   NaN  39.0  0.272  \n3      2  953.0   37.0    18.0  0.024    NaN   NaN  42.5  0.262  \n4      4  958.0   38.0    18.0  0.023   7.40  2.37  15.0  0.286  \n\n[5 rows x 29 columns]",
      "text/html": "<div>\n<style scoped>\n    .dataframe tbody tr th:only-of-type {\n        vertical-align: middle;\n    }\n\n    .dataframe tbody tr th {\n        vertical-align: top;\n    }\n\n    .dataframe thead th {\n        text-align: right;\n    }\n</style>\n<table border=\"1\" class=\"dataframe\">\n  <thead>\n    <tr style=\"text-align: right;\">\n      <th></th>\n      <th>AE1</th>\n      <th>AE2</th>\n      <th>AE3</th>\n      <th>TIME1</th>\n      <th>TIME2</th>\n      <th>TIME3</th>\n      <th>TIME4</th>\n      <th>TIME5</th>\n      <th>KOL1</th>\n      <th>KOL2</th>\n      <th>...</th>\n      <th>RMPR4</th>\n      <th>RMPR5</th>\n      <th>ETEMP</th>\n      <th>METAL</th>\n      <th>ELEVEL</th>\n      <th>NOISE</th>\n      <th>ERATE</th>\n      <th>EKO</th>\n      <th>AIF3</th>\n      <th>UANOD</th>\n    </tr>\n  </thead>\n  <tbody>\n    <tr>\n      <th>0</th>\n      <td>1.8</td>\n      <td>1</td>\n      <td>39.0</td>\n      <td>11.5</td>\n      <td>4.6</td>\n      <td>6.1</td>\n      <td>0</td>\n      <td>1.3</td>\n      <td>446</td>\n      <td>494</td>\n      <td>...</td>\n      <td>1</td>\n      <td>7</td>\n      <td>952.0</td>\n      <td>37.0</td>\n      <td>17.0</td>\n      <td>0.022</td>\n      <td>NaN</td>\n      <td>NaN</td>\n      <td>52.0</td>\n      <td>0.317</td>\n    </tr>\n    <tr>\n      <th>1</th>\n      <td>NaN</td>\n      <td>0</td>\n      <td>NaN</td>\n      <td>9.5</td>\n      <td>5.0</td>\n      <td>9.0</td>\n      <td>0</td>\n      <td>NaN</td>\n      <td>292</td>\n      <td>443</td>\n      <td>...</td>\n      <td>2</td>\n      <td>7</td>\n      <td>957.0</td>\n      <td>38.0</td>\n      <td>17.0</td>\n      <td>0.022</td>\n      <td>7.56</td>\n      <td>2.40</td>\n      <td>32.0</td>\n      <td>0.280</td>\n    </tr>\n    <tr>\n      <th>2</th>\n      <td>NaN</td>\n      <td>0</td>\n      <td>NaN</td>\n      <td>8.5</td>\n      <td>5.7</td>\n      <td>9.3</td>\n      <td>0</td>\n      <td>NaN</td>\n      <td>230</td>\n      <td>526</td>\n      <td>...</td>\n      <td>0</td>\n      <td>1</td>\n      <td>957.0</td>\n      <td>38.0</td>\n      <td>16.0</td>\n      <td>0.023</td>\n      <td>NaN</td>\n      <td>NaN</td>\n      <td>39.0</td>\n      <td>0.272</td>\n    </tr>\n    <tr>\n      <th>3</th>\n      <td>NaN</td>\n      <td>0</td>\n      <td>NaN</td>\n      <td>8.9</td>\n      <td>5.0</td>\n      <td>9.6</td>\n      <td>0</td>\n      <td>NaN</td>\n      <td>240</td>\n      <td>428</td>\n      <td>...</td>\n      <td>1</td>\n      <td>2</td>\n      <td>953.0</td>\n      <td>37.0</td>\n      <td>18.0</td>\n      <td>0.024</td>\n      <td>NaN</td>\n      <td>NaN</td>\n      <td>42.5</td>\n      <td>0.262</td>\n    </tr>\n    <tr>\n      <th>4</th>\n      <td>NaN</td>\n      <td>0</td>\n      <td>NaN</td>\n      <td>7.8</td>\n      <td>6.5</td>\n      <td>9.6</td>\n      <td>0</td>\n      <td>NaN</td>\n      <td>251</td>\n      <td>605</td>\n      <td>...</td>\n      <td>2</td>\n      <td>4</td>\n      <td>958.0</td>\n      <td>38.0</td>\n      <td>18.0</td>\n      <td>0.023</td>\n      <td>7.40</td>\n      <td>2.37</td>\n      <td>15.0</td>\n      <td>0.286</td>\n    </tr>\n  </tbody>\n</table>\n<p>5 rows × 29 columns</p>\n</div>"
     },
     "metadata": {},
     "execution_count": 18
    }
   ],
   "source": [
    "rawData1004.head()"
   ]
  },
  {
   "cell_type": "code",
   "execution_count": 19,
   "metadata": {},
   "outputs": [
    {
     "output_type": "execute_result",
     "data": {
      "text/plain": "     AE1  AE2   AE3  TIME1  TIME2  TIME3  TIME4  TIME5  KOL1  KOL2  ...  \\\n360  NaN    0   NaN   11.2    4.2    5.9      0    2.0   268   312  ...   \n361  NaN    0   NaN    5.3    7.4   11.1      0    NaN   146   636  ...   \n362  2.3    1  56.0    8.1    6.2    9.4      0    NaN   330   626  ...   \n363  NaN    0   NaN    9.1    5.9    8.7      0    NaN   339   640  ...   \n364  1.4    3  39.0   11.0    6.3    6.7      0    NaN   397   682  ...   \n\n     RMPR4  RMPR5  ETEMP  METAL  ELEVEL  NOISE  ERATE   EKO  AIF3  UANOD  \n360      1     10  960.0   40.0    16.0  0.020    NaN   NaN   0.0  0.363  \n361      3      6  964.0   39.0    16.0  0.019   7.44  2.32   0.0  0.334  \n362      2     10  959.0   39.0    18.0  0.019    NaN   NaN  27.5  0.317  \n363      1      4  958.0   39.0    17.0  0.020   7.24  2.28  40.0  0.314  \n364      5     14  959.0   39.0    17.0  0.020    NaN   NaN   0.0  0.369  \n\n[5 rows x 29 columns]",
      "text/html": "<div>\n<style scoped>\n    .dataframe tbody tr th:only-of-type {\n        vertical-align: middle;\n    }\n\n    .dataframe tbody tr th {\n        vertical-align: top;\n    }\n\n    .dataframe thead th {\n        text-align: right;\n    }\n</style>\n<table border=\"1\" class=\"dataframe\">\n  <thead>\n    <tr style=\"text-align: right;\">\n      <th></th>\n      <th>AE1</th>\n      <th>AE2</th>\n      <th>AE3</th>\n      <th>TIME1</th>\n      <th>TIME2</th>\n      <th>TIME3</th>\n      <th>TIME4</th>\n      <th>TIME5</th>\n      <th>KOL1</th>\n      <th>KOL2</th>\n      <th>...</th>\n      <th>RMPR4</th>\n      <th>RMPR5</th>\n      <th>ETEMP</th>\n      <th>METAL</th>\n      <th>ELEVEL</th>\n      <th>NOISE</th>\n      <th>ERATE</th>\n      <th>EKO</th>\n      <th>AIF3</th>\n      <th>UANOD</th>\n    </tr>\n  </thead>\n  <tbody>\n    <tr>\n      <th>360</th>\n      <td>NaN</td>\n      <td>0</td>\n      <td>NaN</td>\n      <td>11.2</td>\n      <td>4.2</td>\n      <td>5.9</td>\n      <td>0</td>\n      <td>2.0</td>\n      <td>268</td>\n      <td>312</td>\n      <td>...</td>\n      <td>1</td>\n      <td>10</td>\n      <td>960.0</td>\n      <td>40.0</td>\n      <td>16.0</td>\n      <td>0.020</td>\n      <td>NaN</td>\n      <td>NaN</td>\n      <td>0.0</td>\n      <td>0.363</td>\n    </tr>\n    <tr>\n      <th>361</th>\n      <td>NaN</td>\n      <td>0</td>\n      <td>NaN</td>\n      <td>5.3</td>\n      <td>7.4</td>\n      <td>11.1</td>\n      <td>0</td>\n      <td>NaN</td>\n      <td>146</td>\n      <td>636</td>\n      <td>...</td>\n      <td>3</td>\n      <td>6</td>\n      <td>964.0</td>\n      <td>39.0</td>\n      <td>16.0</td>\n      <td>0.019</td>\n      <td>7.44</td>\n      <td>2.32</td>\n      <td>0.0</td>\n      <td>0.334</td>\n    </tr>\n    <tr>\n      <th>362</th>\n      <td>2.3</td>\n      <td>1</td>\n      <td>56.0</td>\n      <td>8.1</td>\n      <td>6.2</td>\n      <td>9.4</td>\n      <td>0</td>\n      <td>NaN</td>\n      <td>330</td>\n      <td>626</td>\n      <td>...</td>\n      <td>2</td>\n      <td>10</td>\n      <td>959.0</td>\n      <td>39.0</td>\n      <td>18.0</td>\n      <td>0.019</td>\n      <td>NaN</td>\n      <td>NaN</td>\n      <td>27.5</td>\n      <td>0.317</td>\n    </tr>\n    <tr>\n      <th>363</th>\n      <td>NaN</td>\n      <td>0</td>\n      <td>NaN</td>\n      <td>9.1</td>\n      <td>5.9</td>\n      <td>8.7</td>\n      <td>0</td>\n      <td>NaN</td>\n      <td>339</td>\n      <td>640</td>\n      <td>...</td>\n      <td>1</td>\n      <td>4</td>\n      <td>958.0</td>\n      <td>39.0</td>\n      <td>17.0</td>\n      <td>0.020</td>\n      <td>7.24</td>\n      <td>2.28</td>\n      <td>40.0</td>\n      <td>0.314</td>\n    </tr>\n    <tr>\n      <th>364</th>\n      <td>1.4</td>\n      <td>3</td>\n      <td>39.0</td>\n      <td>11.0</td>\n      <td>6.3</td>\n      <td>6.7</td>\n      <td>0</td>\n      <td>NaN</td>\n      <td>397</td>\n      <td>682</td>\n      <td>...</td>\n      <td>5</td>\n      <td>14</td>\n      <td>959.0</td>\n      <td>39.0</td>\n      <td>17.0</td>\n      <td>0.020</td>\n      <td>NaN</td>\n      <td>NaN</td>\n      <td>0.0</td>\n      <td>0.369</td>\n    </tr>\n  </tbody>\n</table>\n<p>5 rows × 29 columns</p>\n</div>"
     },
     "metadata": {},
     "execution_count": 19
    }
   ],
   "source": [
    "rawData1004.tail()"
   ]
  },
  {
   "cell_type": "code",
   "execution_count": 20,
   "metadata": {},
   "outputs": [
    {
     "output_type": "stream",
     "name": "stdout",
     "text": "<class 'pandas.core.frame.DataFrame'>\nRangeIndex: 365 entries, 0 to 364\nColumns: 29 entries, AE1 to UANOD\ndtypes: float64(21), int64(8)\nmemory usage: 82.8 KB\n"
    }
   ],
   "source": [
    "rawData1004.info(verbose=False)"
   ]
  },
  {
   "cell_type": "code",
   "execution_count": 21,
   "metadata": {},
   "outputs": [
    {
     "output_type": "stream",
     "name": "stdout",
     "text": "Ванна 1004\nСтолбцы, в которых нет ниодного значения:\nIndex(['KOL4'], dtype='object')\nСтолбцы, в которых пропущено более 90% данных:\nIndex(['KOL4'], dtype='object')\nСтолбцы, в которых пропущено более 80% данных:\nIndex(['KOL4', 'NAST', 'POD'], dtype='object')\nСтолбцы, в которых пропущено более 70% данных:\nIndex(['TIME5', 'KOL4', 'NAST', 'POD'], dtype='object')\nСтолбцы, в которых пропущено более 60% данных:\nIndex(['TIME5', 'KOL4', 'NAST', 'POD'], dtype='object')\nСтолбцы, в которых пропущено более 50% данных:\nIndex(['AE1', 'AE3', 'TIME5', 'KOL4', 'NAST', 'POD', 'ERATE', 'EKO'], dtype='object')\n"
    }
   ],
   "source": [
    "print(\"Ванна 1004\")\n",
    "print(\"Столбцы, в которых нет ниодного значения:\")\n",
    "print(rawData1004.columns[rawData1004.isnull().sum()==365])\n",
    "print(\"Столбцы, в которых пропущено более 90% данных:\")\n",
    "print(rawData1004.columns[rawData1004.isnull().sum()>=(0.9*365)])\n",
    "print(\"Столбцы, в которых пропущено более 80% данных:\")\n",
    "print(rawData1004.columns[rawData1004.isnull().sum()>=(0.8*365)])\n",
    "print(\"Столбцы, в которых пропущено более 70% данных:\")\n",
    "print(rawData1004.columns[rawData1004.isnull().sum()>=(0.7*365)])\n",
    "print(\"Столбцы, в которых пропущено более 60% данных:\")\n",
    "print(rawData1004.columns[rawData1004.isnull().sum()>=(0.6*365)])\n",
    "print(\"Столбцы, в которых пропущено более 50% данных:\")\n",
    "print(rawData1004.columns[rawData1004.isnull().sum()>=(0.5*365)])"
   ]
  },
  {
   "cell_type": "code",
   "execution_count": 22,
   "metadata": {},
   "outputs": [
    {
     "output_type": "execute_result",
     "data": {
      "text/plain": "   AE1  AE2   AE3  TIME1  TIME2  TIME3  TIME4  TIME5  KOL1  KOL2  ...  RMPR4  \\\n0  2.2    1  53.0    9.3    6.0    7.0      0    0.5   251   568  ...      3   \n1  NaN    0   NaN    9.4    5.7    8.9      0    NaN   302   512  ...      3   \n2  NaN    0   NaN    7.9    6.5    9.2      0    NaN   230   584  ...      2   \n3  NaN    0   NaN    7.1    6.7   10.2      0    NaN   205   627  ...      1   \n4  0.8    1  37.0    6.8    7.1    9.8      0    NaN   246   697  ...      5   \n\n   RMPR5  ETEMP  METAL  ELEVEL  NOISE  ERATE   EKO  AIF3  UANOD  \n0      7  948.0   41.0    18.0  0.025    NaN   NaN   0.0  0.438  \n1      3  953.0   41.0    17.0  0.024   7.75  2.38  44.0  0.417  \n2      3  956.0   41.0    15.0  0.023    NaN   NaN  42.0  0.402  \n3      2  952.0   41.0    17.0  0.021    NaN   NaN  35.0  0.374  \n4      6  951.0   42.0    16.0  0.022   7.67  2.32  32.5  0.425  \n\n[5 rows x 29 columns]",
      "text/html": "<div>\n<style scoped>\n    .dataframe tbody tr th:only-of-type {\n        vertical-align: middle;\n    }\n\n    .dataframe tbody tr th {\n        vertical-align: top;\n    }\n\n    .dataframe thead th {\n        text-align: right;\n    }\n</style>\n<table border=\"1\" class=\"dataframe\">\n  <thead>\n    <tr style=\"text-align: right;\">\n      <th></th>\n      <th>AE1</th>\n      <th>AE2</th>\n      <th>AE3</th>\n      <th>TIME1</th>\n      <th>TIME2</th>\n      <th>TIME3</th>\n      <th>TIME4</th>\n      <th>TIME5</th>\n      <th>KOL1</th>\n      <th>KOL2</th>\n      <th>...</th>\n      <th>RMPR4</th>\n      <th>RMPR5</th>\n      <th>ETEMP</th>\n      <th>METAL</th>\n      <th>ELEVEL</th>\n      <th>NOISE</th>\n      <th>ERATE</th>\n      <th>EKO</th>\n      <th>AIF3</th>\n      <th>UANOD</th>\n    </tr>\n  </thead>\n  <tbody>\n    <tr>\n      <th>0</th>\n      <td>2.2</td>\n      <td>1</td>\n      <td>53.0</td>\n      <td>9.3</td>\n      <td>6.0</td>\n      <td>7.0</td>\n      <td>0</td>\n      <td>0.5</td>\n      <td>251</td>\n      <td>568</td>\n      <td>...</td>\n      <td>3</td>\n      <td>7</td>\n      <td>948.0</td>\n      <td>41.0</td>\n      <td>18.0</td>\n      <td>0.025</td>\n      <td>NaN</td>\n      <td>NaN</td>\n      <td>0.0</td>\n      <td>0.438</td>\n    </tr>\n    <tr>\n      <th>1</th>\n      <td>NaN</td>\n      <td>0</td>\n      <td>NaN</td>\n      <td>9.4</td>\n      <td>5.7</td>\n      <td>8.9</td>\n      <td>0</td>\n      <td>NaN</td>\n      <td>302</td>\n      <td>512</td>\n      <td>...</td>\n      <td>3</td>\n      <td>3</td>\n      <td>953.0</td>\n      <td>41.0</td>\n      <td>17.0</td>\n      <td>0.024</td>\n      <td>7.75</td>\n      <td>2.38</td>\n      <td>44.0</td>\n      <td>0.417</td>\n    </tr>\n    <tr>\n      <th>2</th>\n      <td>NaN</td>\n      <td>0</td>\n      <td>NaN</td>\n      <td>7.9</td>\n      <td>6.5</td>\n      <td>9.2</td>\n      <td>0</td>\n      <td>NaN</td>\n      <td>230</td>\n      <td>584</td>\n      <td>...</td>\n      <td>2</td>\n      <td>3</td>\n      <td>956.0</td>\n      <td>41.0</td>\n      <td>15.0</td>\n      <td>0.023</td>\n      <td>NaN</td>\n      <td>NaN</td>\n      <td>42.0</td>\n      <td>0.402</td>\n    </tr>\n    <tr>\n      <th>3</th>\n      <td>NaN</td>\n      <td>0</td>\n      <td>NaN</td>\n      <td>7.1</td>\n      <td>6.7</td>\n      <td>10.2</td>\n      <td>0</td>\n      <td>NaN</td>\n      <td>205</td>\n      <td>627</td>\n      <td>...</td>\n      <td>1</td>\n      <td>2</td>\n      <td>952.0</td>\n      <td>41.0</td>\n      <td>17.0</td>\n      <td>0.021</td>\n      <td>NaN</td>\n      <td>NaN</td>\n      <td>35.0</td>\n      <td>0.374</td>\n    </tr>\n    <tr>\n      <th>4</th>\n      <td>0.8</td>\n      <td>1</td>\n      <td>37.0</td>\n      <td>6.8</td>\n      <td>7.1</td>\n      <td>9.8</td>\n      <td>0</td>\n      <td>NaN</td>\n      <td>246</td>\n      <td>697</td>\n      <td>...</td>\n      <td>5</td>\n      <td>6</td>\n      <td>951.0</td>\n      <td>42.0</td>\n      <td>16.0</td>\n      <td>0.022</td>\n      <td>7.67</td>\n      <td>2.32</td>\n      <td>32.5</td>\n      <td>0.425</td>\n    </tr>\n  </tbody>\n</table>\n<p>5 rows × 29 columns</p>\n</div>"
     },
     "metadata": {},
     "execution_count": 22
    }
   ],
   "source": [
    "rawData1005.head()"
   ]
  },
  {
   "cell_type": "code",
   "execution_count": 23,
   "metadata": {},
   "outputs": [
    {
     "output_type": "execute_result",
     "data": {
      "text/plain": "     AE1  AE2   AE3  TIME1  TIME2  TIME3  TIME4  TIME5  KOL1  KOL2  ...  \\\n360  1.7    1  49.0    8.4    6.4    8.4      0    0.3   211   517  ...   \n361  NaN    0   NaN    8.3    6.2    9.5      0    NaN   220   576  ...   \n362  2.1    1  51.0    7.2    6.9    9.5      0    NaN   240   681  ...   \n363  NaN    0   NaN    9.3    6.1    8.7      0    NaN   373   732  ...   \n364  NaN    0   NaN    9.4    6.3    8.2      0    NaN   349   678  ...   \n\n     RMPR4  RMPR5  ETEMP  METAL  ELEVEL  NOISE  ERATE   EKO  AIF3  UANOD  \n360      1      7  953.0   44.0    15.0  0.015    NaN   NaN  50.0  0.419  \n361      1      2  949.0   43.0    20.0  0.015   7.00  2.29   0.0  0.398  \n362      3      6  948.0   43.0    18.0  0.014    NaN   NaN   0.0  0.381  \n363      3      2  940.0   44.0    17.0  0.015   7.01  2.25   0.0  0.374  \n364      5      5  936.0   43.0    16.0  0.017    NaN   NaN   0.0  0.455  \n\n[5 rows x 29 columns]",
      "text/html": "<div>\n<style scoped>\n    .dataframe tbody tr th:only-of-type {\n        vertical-align: middle;\n    }\n\n    .dataframe tbody tr th {\n        vertical-align: top;\n    }\n\n    .dataframe thead th {\n        text-align: right;\n    }\n</style>\n<table border=\"1\" class=\"dataframe\">\n  <thead>\n    <tr style=\"text-align: right;\">\n      <th></th>\n      <th>AE1</th>\n      <th>AE2</th>\n      <th>AE3</th>\n      <th>TIME1</th>\n      <th>TIME2</th>\n      <th>TIME3</th>\n      <th>TIME4</th>\n      <th>TIME5</th>\n      <th>KOL1</th>\n      <th>KOL2</th>\n      <th>...</th>\n      <th>RMPR4</th>\n      <th>RMPR5</th>\n      <th>ETEMP</th>\n      <th>METAL</th>\n      <th>ELEVEL</th>\n      <th>NOISE</th>\n      <th>ERATE</th>\n      <th>EKO</th>\n      <th>AIF3</th>\n      <th>UANOD</th>\n    </tr>\n  </thead>\n  <tbody>\n    <tr>\n      <th>360</th>\n      <td>1.7</td>\n      <td>1</td>\n      <td>49.0</td>\n      <td>8.4</td>\n      <td>6.4</td>\n      <td>8.4</td>\n      <td>0</td>\n      <td>0.3</td>\n      <td>211</td>\n      <td>517</td>\n      <td>...</td>\n      <td>1</td>\n      <td>7</td>\n      <td>953.0</td>\n      <td>44.0</td>\n      <td>15.0</td>\n      <td>0.015</td>\n      <td>NaN</td>\n      <td>NaN</td>\n      <td>50.0</td>\n      <td>0.419</td>\n    </tr>\n    <tr>\n      <th>361</th>\n      <td>NaN</td>\n      <td>0</td>\n      <td>NaN</td>\n      <td>8.3</td>\n      <td>6.2</td>\n      <td>9.5</td>\n      <td>0</td>\n      <td>NaN</td>\n      <td>220</td>\n      <td>576</td>\n      <td>...</td>\n      <td>1</td>\n      <td>2</td>\n      <td>949.0</td>\n      <td>43.0</td>\n      <td>20.0</td>\n      <td>0.015</td>\n      <td>7.00</td>\n      <td>2.29</td>\n      <td>0.0</td>\n      <td>0.398</td>\n    </tr>\n    <tr>\n      <th>362</th>\n      <td>2.1</td>\n      <td>1</td>\n      <td>51.0</td>\n      <td>7.2</td>\n      <td>6.9</td>\n      <td>9.5</td>\n      <td>0</td>\n      <td>NaN</td>\n      <td>240</td>\n      <td>681</td>\n      <td>...</td>\n      <td>3</td>\n      <td>6</td>\n      <td>948.0</td>\n      <td>43.0</td>\n      <td>18.0</td>\n      <td>0.014</td>\n      <td>NaN</td>\n      <td>NaN</td>\n      <td>0.0</td>\n      <td>0.381</td>\n    </tr>\n    <tr>\n      <th>363</th>\n      <td>NaN</td>\n      <td>0</td>\n      <td>NaN</td>\n      <td>9.3</td>\n      <td>6.1</td>\n      <td>8.7</td>\n      <td>0</td>\n      <td>NaN</td>\n      <td>373</td>\n      <td>732</td>\n      <td>...</td>\n      <td>3</td>\n      <td>2</td>\n      <td>940.0</td>\n      <td>44.0</td>\n      <td>17.0</td>\n      <td>0.015</td>\n      <td>7.01</td>\n      <td>2.25</td>\n      <td>0.0</td>\n      <td>0.374</td>\n    </tr>\n    <tr>\n      <th>364</th>\n      <td>NaN</td>\n      <td>0</td>\n      <td>NaN</td>\n      <td>9.4</td>\n      <td>6.3</td>\n      <td>8.2</td>\n      <td>0</td>\n      <td>NaN</td>\n      <td>349</td>\n      <td>678</td>\n      <td>...</td>\n      <td>5</td>\n      <td>5</td>\n      <td>936.0</td>\n      <td>43.0</td>\n      <td>16.0</td>\n      <td>0.017</td>\n      <td>NaN</td>\n      <td>NaN</td>\n      <td>0.0</td>\n      <td>0.455</td>\n    </tr>\n  </tbody>\n</table>\n<p>5 rows × 29 columns</p>\n</div>"
     },
     "metadata": {},
     "execution_count": 23
    }
   ],
   "source": [
    "rawData1005.tail()"
   ]
  },
  {
   "cell_type": "code",
   "execution_count": 24,
   "metadata": {},
   "outputs": [
    {
     "output_type": "stream",
     "name": "stdout",
     "text": "<class 'pandas.core.frame.DataFrame'>\nRangeIndex: 365 entries, 0 to 364\nColumns: 29 entries, AE1 to UANOD\ndtypes: float64(22), int64(7)\nmemory usage: 82.8 KB\n"
    }
   ],
   "source": [
    "rawData1005.info(verbose=False)"
   ]
  },
  {
   "cell_type": "code",
   "execution_count": 25,
   "metadata": {},
   "outputs": [
    {
     "output_type": "stream",
     "name": "stdout",
     "text": "Ванна 1005\nСтолбцы, в которых нет ниодного значения:\nIndex(['KOL4'], dtype='object')\nСтолбцы, в которых пропущено более 90% данных:\nIndex(['KOL4'], dtype='object')\nСтолбцы, в которых пропущено более 80% данных:\nIndex(['KOL4', 'NAST', 'POD'], dtype='object')\nСтолбцы, в которых пропущено более 70% данных:\nIndex(['TIME5', 'KOL4', 'NAST', 'POD'], dtype='object')\nСтолбцы, в которых пропущено более 60% данных:\nIndex(['TIME5', 'KOL4', 'NAST', 'POD'], dtype='object')\nСтолбцы, в которых пропущено более 50% данных:\nIndex(['AE1', 'AE3', 'TIME5', 'KOL4', 'NAST', 'POD', 'ERATE', 'EKO'], dtype='object')\n"
    }
   ],
   "source": [
    "print(\"Ванна 1005\")\n",
    "print(\"Столбцы, в которых нет ниодного значения:\")\n",
    "print(rawData1005.columns[rawData1005.isnull().sum()==365])\n",
    "print(\"Столбцы, в которых пропущено более 90% данных:\")\n",
    "print(rawData1005.columns[rawData1005.isnull().sum()>=(0.9*365)])\n",
    "print(\"Столбцы, в которых пропущено более 80% данных:\")\n",
    "print(rawData1005.columns[rawData1005.isnull().sum()>=(0.8*365)])\n",
    "print(\"Столбцы, в которых пропущено более 70% данных:\")\n",
    "print(rawData1005.columns[rawData1005.isnull().sum()>=(0.7*365)])\n",
    "print(\"Столбцы, в которых пропущено более 60% данных:\")\n",
    "print(rawData1005.columns[rawData1005.isnull().sum()>=(0.6*365)])\n",
    "print(\"Столбцы, в которых пропущено более 50% данных:\")\n",
    "print(rawData1005.columns[rawData1005.isnull().sum()>=(0.5*365)])"
   ]
  },
  {
   "cell_type": "code",
   "execution_count": 26,
   "metadata": {},
   "outputs": [
    {
     "output_type": "execute_result",
     "data": {
      "text/plain": "   AE1  AE2   AE3  TIME1  TIME2  TIME3  TIME4  TIME5   KOL1  KOL2  ...  RMPR4  \\\n0  2.2    1  57.0    9.8    5.0    7.2      0    0.6  273.0   373  ...      1   \n1  NaN    0   NaN    7.7    6.8    9.5      0    NaN  225.0   620  ...      2   \n2  NaN    0   NaN    8.7    5.8    8.9      0    NaN  250.0   550  ...      2   \n3  NaN    0   NaN    7.7    6.7    9.5      0    NaN  216.0   607  ...      3   \n4  2.0    2  50.0    6.0    8.5    9.5      0    NaN  192.0   808  ...      5   \n\n   RMPR5  ETEMP  METAL  ELEVEL  NOISE  ERATE   EKO  AIF3  UANOD  \n0      8  959.0   40.0    16.0  0.037    NaN   NaN  20.0  0.394  \n1      3  963.0   40.0    17.0  0.036   7.16  2.37  12.0  0.355  \n2      0  960.0   41.0    16.0  0.034    NaN   NaN  30.0  0.343  \n3      0  958.0   41.0    17.0  0.034    NaN   NaN  22.5  0.327  \n4      4  957.0   40.0    16.0  0.034   7.25  2.26  20.0  0.391  \n\n[5 rows x 29 columns]",
      "text/html": "<div>\n<style scoped>\n    .dataframe tbody tr th:only-of-type {\n        vertical-align: middle;\n    }\n\n    .dataframe tbody tr th {\n        vertical-align: top;\n    }\n\n    .dataframe thead th {\n        text-align: right;\n    }\n</style>\n<table border=\"1\" class=\"dataframe\">\n  <thead>\n    <tr style=\"text-align: right;\">\n      <th></th>\n      <th>AE1</th>\n      <th>AE2</th>\n      <th>AE3</th>\n      <th>TIME1</th>\n      <th>TIME2</th>\n      <th>TIME3</th>\n      <th>TIME4</th>\n      <th>TIME5</th>\n      <th>KOL1</th>\n      <th>KOL2</th>\n      <th>...</th>\n      <th>RMPR4</th>\n      <th>RMPR5</th>\n      <th>ETEMP</th>\n      <th>METAL</th>\n      <th>ELEVEL</th>\n      <th>NOISE</th>\n      <th>ERATE</th>\n      <th>EKO</th>\n      <th>AIF3</th>\n      <th>UANOD</th>\n    </tr>\n  </thead>\n  <tbody>\n    <tr>\n      <th>0</th>\n      <td>2.2</td>\n      <td>1</td>\n      <td>57.0</td>\n      <td>9.8</td>\n      <td>5.0</td>\n      <td>7.2</td>\n      <td>0</td>\n      <td>0.6</td>\n      <td>273.0</td>\n      <td>373</td>\n      <td>...</td>\n      <td>1</td>\n      <td>8</td>\n      <td>959.0</td>\n      <td>40.0</td>\n      <td>16.0</td>\n      <td>0.037</td>\n      <td>NaN</td>\n      <td>NaN</td>\n      <td>20.0</td>\n      <td>0.394</td>\n    </tr>\n    <tr>\n      <th>1</th>\n      <td>NaN</td>\n      <td>0</td>\n      <td>NaN</td>\n      <td>7.7</td>\n      <td>6.8</td>\n      <td>9.5</td>\n      <td>0</td>\n      <td>NaN</td>\n      <td>225.0</td>\n      <td>620</td>\n      <td>...</td>\n      <td>2</td>\n      <td>3</td>\n      <td>963.0</td>\n      <td>40.0</td>\n      <td>17.0</td>\n      <td>0.036</td>\n      <td>7.16</td>\n      <td>2.37</td>\n      <td>12.0</td>\n      <td>0.355</td>\n    </tr>\n    <tr>\n      <th>2</th>\n      <td>NaN</td>\n      <td>0</td>\n      <td>NaN</td>\n      <td>8.7</td>\n      <td>5.8</td>\n      <td>8.9</td>\n      <td>0</td>\n      <td>NaN</td>\n      <td>250.0</td>\n      <td>550</td>\n      <td>...</td>\n      <td>2</td>\n      <td>0</td>\n      <td>960.0</td>\n      <td>41.0</td>\n      <td>16.0</td>\n      <td>0.034</td>\n      <td>NaN</td>\n      <td>NaN</td>\n      <td>30.0</td>\n      <td>0.343</td>\n    </tr>\n    <tr>\n      <th>3</th>\n      <td>NaN</td>\n      <td>0</td>\n      <td>NaN</td>\n      <td>7.7</td>\n      <td>6.7</td>\n      <td>9.5</td>\n      <td>0</td>\n      <td>NaN</td>\n      <td>216.0</td>\n      <td>607</td>\n      <td>...</td>\n      <td>3</td>\n      <td>0</td>\n      <td>958.0</td>\n      <td>41.0</td>\n      <td>17.0</td>\n      <td>0.034</td>\n      <td>NaN</td>\n      <td>NaN</td>\n      <td>22.5</td>\n      <td>0.327</td>\n    </tr>\n    <tr>\n      <th>4</th>\n      <td>2.0</td>\n      <td>2</td>\n      <td>50.0</td>\n      <td>6.0</td>\n      <td>8.5</td>\n      <td>9.5</td>\n      <td>0</td>\n      <td>NaN</td>\n      <td>192.0</td>\n      <td>808</td>\n      <td>...</td>\n      <td>5</td>\n      <td>4</td>\n      <td>957.0</td>\n      <td>40.0</td>\n      <td>16.0</td>\n      <td>0.034</td>\n      <td>7.25</td>\n      <td>2.26</td>\n      <td>20.0</td>\n      <td>0.391</td>\n    </tr>\n  </tbody>\n</table>\n<p>5 rows × 29 columns</p>\n</div>"
     },
     "metadata": {},
     "execution_count": 26
    }
   ],
   "source": [
    "rawData1006.head()"
   ]
  },
  {
   "cell_type": "code",
   "execution_count": 27,
   "metadata": {},
   "outputs": [
    {
     "output_type": "execute_result",
     "data": {
      "text/plain": "     AE1  AE2   AE3  TIME1  TIME2  TIME3  TIME4  TIME5   KOL1  KOL2  ...  \\\n360  2.2    1  51.0    7.5    6.3    8.5      0    0.5  181.0   478  ...   \n361  NaN    0   NaN    7.4    6.7    9.9      0    NaN  206.0   566  ...   \n362  NaN    0   NaN    7.5    6.6    9.6      0    NaN  218.0   684  ...   \n363  NaN    0   NaN    9.0    6.3    8.7      0    NaN  330.0   654  ...   \n364  1.8    1  55.0    8.2    7.6    8.2      0    NaN  281.0   791  ...   \n\n     RMPR4  RMPR5  ETEMP  METAL  ELEVEL  NOISE  ERATE   EKO  AIF3  UANOD  \n360      0     10  953.0   43.0    15.0  0.017    NaN   NaN  17.5  0.506  \n361      3      7  944.0   44.0    16.0  0.016   6.96  2.27   0.0  0.477  \n362      1      3  951.0   43.0    16.0  0.015    NaN   NaN   0.0  0.502  \n363      1      3  948.0   43.0    16.0  0.015   7.06  2.28   0.0  0.511  \n364      5      5  944.0   42.0    16.0  0.016    NaN   NaN   0.0  0.542  \n\n[5 rows x 29 columns]",
      "text/html": "<div>\n<style scoped>\n    .dataframe tbody tr th:only-of-type {\n        vertical-align: middle;\n    }\n\n    .dataframe tbody tr th {\n        vertical-align: top;\n    }\n\n    .dataframe thead th {\n        text-align: right;\n    }\n</style>\n<table border=\"1\" class=\"dataframe\">\n  <thead>\n    <tr style=\"text-align: right;\">\n      <th></th>\n      <th>AE1</th>\n      <th>AE2</th>\n      <th>AE3</th>\n      <th>TIME1</th>\n      <th>TIME2</th>\n      <th>TIME3</th>\n      <th>TIME4</th>\n      <th>TIME5</th>\n      <th>KOL1</th>\n      <th>KOL2</th>\n      <th>...</th>\n      <th>RMPR4</th>\n      <th>RMPR5</th>\n      <th>ETEMP</th>\n      <th>METAL</th>\n      <th>ELEVEL</th>\n      <th>NOISE</th>\n      <th>ERATE</th>\n      <th>EKO</th>\n      <th>AIF3</th>\n      <th>UANOD</th>\n    </tr>\n  </thead>\n  <tbody>\n    <tr>\n      <th>360</th>\n      <td>2.2</td>\n      <td>1</td>\n      <td>51.0</td>\n      <td>7.5</td>\n      <td>6.3</td>\n      <td>8.5</td>\n      <td>0</td>\n      <td>0.5</td>\n      <td>181.0</td>\n      <td>478</td>\n      <td>...</td>\n      <td>0</td>\n      <td>10</td>\n      <td>953.0</td>\n      <td>43.0</td>\n      <td>15.0</td>\n      <td>0.017</td>\n      <td>NaN</td>\n      <td>NaN</td>\n      <td>17.5</td>\n      <td>0.506</td>\n    </tr>\n    <tr>\n      <th>361</th>\n      <td>NaN</td>\n      <td>0</td>\n      <td>NaN</td>\n      <td>7.4</td>\n      <td>6.7</td>\n      <td>9.9</td>\n      <td>0</td>\n      <td>NaN</td>\n      <td>206.0</td>\n      <td>566</td>\n      <td>...</td>\n      <td>3</td>\n      <td>7</td>\n      <td>944.0</td>\n      <td>44.0</td>\n      <td>16.0</td>\n      <td>0.016</td>\n      <td>6.96</td>\n      <td>2.27</td>\n      <td>0.0</td>\n      <td>0.477</td>\n    </tr>\n    <tr>\n      <th>362</th>\n      <td>NaN</td>\n      <td>0</td>\n      <td>NaN</td>\n      <td>7.5</td>\n      <td>6.6</td>\n      <td>9.6</td>\n      <td>0</td>\n      <td>NaN</td>\n      <td>218.0</td>\n      <td>684</td>\n      <td>...</td>\n      <td>1</td>\n      <td>3</td>\n      <td>951.0</td>\n      <td>43.0</td>\n      <td>16.0</td>\n      <td>0.015</td>\n      <td>NaN</td>\n      <td>NaN</td>\n      <td>0.0</td>\n      <td>0.502</td>\n    </tr>\n    <tr>\n      <th>363</th>\n      <td>NaN</td>\n      <td>0</td>\n      <td>NaN</td>\n      <td>9.0</td>\n      <td>6.3</td>\n      <td>8.7</td>\n      <td>0</td>\n      <td>NaN</td>\n      <td>330.0</td>\n      <td>654</td>\n      <td>...</td>\n      <td>1</td>\n      <td>3</td>\n      <td>948.0</td>\n      <td>43.0</td>\n      <td>16.0</td>\n      <td>0.015</td>\n      <td>7.06</td>\n      <td>2.28</td>\n      <td>0.0</td>\n      <td>0.511</td>\n    </tr>\n    <tr>\n      <th>364</th>\n      <td>1.8</td>\n      <td>1</td>\n      <td>55.0</td>\n      <td>8.2</td>\n      <td>7.6</td>\n      <td>8.2</td>\n      <td>0</td>\n      <td>NaN</td>\n      <td>281.0</td>\n      <td>791</td>\n      <td>...</td>\n      <td>5</td>\n      <td>5</td>\n      <td>944.0</td>\n      <td>42.0</td>\n      <td>16.0</td>\n      <td>0.016</td>\n      <td>NaN</td>\n      <td>NaN</td>\n      <td>0.0</td>\n      <td>0.542</td>\n    </tr>\n  </tbody>\n</table>\n<p>5 rows × 29 columns</p>\n</div>"
     },
     "metadata": {},
     "execution_count": 27
    }
   ],
   "source": [
    "rawData1006.tail()"
   ]
  },
  {
   "cell_type": "code",
   "execution_count": 28,
   "metadata": {},
   "outputs": [
    {
     "output_type": "stream",
     "name": "stdout",
     "text": "<class 'pandas.core.frame.DataFrame'>\nRangeIndex: 365 entries, 0 to 364\nColumns: 29 entries, AE1 to UANOD\ndtypes: float64(24), int64(5)\nmemory usage: 82.8 KB\n"
    }
   ],
   "source": [
    "rawData1006.info(verbose=False)"
   ]
  },
  {
   "cell_type": "code",
   "execution_count": 29,
   "metadata": {},
   "outputs": [
    {
     "output_type": "stream",
     "name": "stdout",
     "text": "Ванна 1006\nСтолбцы, в которых нет ниодного значения:\nIndex(['KOL4'], dtype='object')\nСтолбцы, в которых пропущено более 90% данных:\nIndex(['KOL4'], dtype='object')\nСтолбцы, в которых пропущено более 80% данных:\nIndex(['KOL4', 'NAST', 'POD'], dtype='object')\nСтолбцы, в которых пропущено более 70% данных:\nIndex(['TIME5', 'KOL4', 'NAST', 'POD'], dtype='object')\nСтолбцы, в которых пропущено более 60% данных:\nIndex(['TIME5', 'KOL4', 'NAST', 'POD'], dtype='object')\nСтолбцы, в которых пропущено более 50% данных:\nIndex(['AE1', 'AE3', 'TIME5', 'KOL4', 'NAST', 'POD', 'ERATE', 'EKO'], dtype='object')\n"
    }
   ],
   "source": [
    "print(\"Ванна 1006\")\n",
    "print(\"Столбцы, в которых нет ниодного значения:\")\n",
    "print(rawData1006.columns[rawData1006.isnull().sum()==365])\n",
    "print(\"Столбцы, в которых пропущено более 90% данных:\")\n",
    "print(rawData1006.columns[rawData1006.isnull().sum()>=(0.9*365)])\n",
    "print(\"Столбцы, в которых пропущено более 80% данных:\")\n",
    "print(rawData1006.columns[rawData1006.isnull().sum()>=(0.8*365)])\n",
    "print(\"Столбцы, в которых пропущено более 70% данных:\")\n",
    "print(rawData1006.columns[rawData1006.isnull().sum()>=(0.7*365)])\n",
    "print(\"Столбцы, в которых пропущено более 60% данных:\")\n",
    "print(rawData1006.columns[rawData1006.isnull().sum()>=(0.6*365)])\n",
    "print(\"Столбцы, в которых пропущено более 50% данных:\")\n",
    "print(rawData1006.columns[rawData1006.isnull().sum()>=(0.5*365)])"
   ]
  },
  {
   "cell_type": "markdown",
   "metadata": {},
   "source": [
    "# сохраним все в отдельные csv\n",
    "## <i> имена:\"rawDataBathName.csv\" </i>"
   ]
  },
  {
   "cell_type": "code",
   "execution_count": 34,
   "metadata": {},
   "outputs": [
    {
     "output_type": "execute_result",
     "data": {
      "text/plain": "'c:\\\\Users\\\\Evgenii\\\\OneDrive\\\\Python scripts\\\\Проекты НИР\\\\ITC RUSAL'"
     },
     "metadata": {},
     "execution_count": 34
    }
   ],
   "source": [
    "import os\n",
    "os.path.abspath(os.getcwd())"
   ]
  },
  {
   "cell_type": "code",
   "execution_count": 39,
   "metadata": {},
   "outputs": [],
   "source": [
    "rawData1001.to_csv('baths_v2/rawDataBath1001.csv', index=False)\n",
    "rawData1003.to_csv('baths_v2/rawDataBath1003.csv', index=False)\n",
    "rawData1004.to_csv('baths_v2/rawDataBath1004.csv', index=False)\n",
    "rawData1005.to_csv('baths_v2/rawDataBath1005.csv', index=False)\n",
    "rawData1006.to_csv('baths_v2/rawDataBath1006.csv', index=False)"
   ]
  },
  {
   "cell_type": "markdown",
   "metadata": {},
   "source": [
    "<hr>"
   ]
  },
  {
   "cell_type": "markdown",
   "metadata": {},
   "source": [
    "# Импорт сырых данных из файлов \"выливка\""
   ]
  },
  {
   "cell_type": "code",
   "execution_count": 40,
   "metadata": {},
   "outputs": [],
   "source": [
    "columnNames_2=['NETOUT1', 'NETOUT2', 'NETOUT3',\n",
    "                'CURRENT1', 'CURRENT2']\n",
    "fullNames_2=['Выход на в.сутки: Кр/весы <Сред.> (кг)', 'Выход на в.сутки: Л/О <Сред.> (кг)',\n",
    "            'Выход на в.сутки: по заданию <Сред.> (кг)', 'Выход по току: Л/О <Сред.> (%)',\n",
    "            'Ток серии (АСУТП) <Сред.> (кА)']"
   ]
  },
  {
   "cell_type": "code",
   "execution_count": 51,
   "metadata": {},
   "outputs": [
    {
     "output_type": "stream",
     "name": "stdout",
     "text": "WARNING *** OLE2 inconsistency: SSCS size is 0 but SSAT size is non-zero\nWARNING *** file size (29127) not 512 + multiple of sector size (512)\nWARNING *** OLE2 inconsistency: SSCS size is 0 but SSAT size is non-zero\nWARNING *** file size (29134) not 512 + multiple of sector size (512)\nWARNING *** OLE2 inconsistency: SSCS size is 0 but SSAT size is non-zero\nWARNING *** OLE2 inconsistency: SSCS size is 0 but SSAT size is non-zero\nWARNING *** file size (29127) not 512 + multiple of sector size (512)\nWARNING *** OLE2 inconsistency: SSCS size is 0 but SSAT size is non-zero\n"
    }
   ],
   "source": [
    "rawData1001_2=pd.read_excel('../ITC RUSAL/raw data/netout_1001_2019.xls',\n",
    "                    header=None, skiprows=5, usecols='B:F')\n",
    "rawData1003_2=pd.read_excel('../ITC RUSAL/raw data/netout_1003_2019.xls',\n",
    "                    header=None, skiprows=5, usecols='B:F')\n",
    "rawData1004_2=pd.read_excel('../ITC RUSAL/raw data/netout_1004_2019.xls',\n",
    "                    header=None, skiprows=5, usecols='B:F')\n",
    "rawData1005_2=pd.read_excel('../ITC RUSAL/raw data/netout_1005_2019.xls',\n",
    "                    header=None, skiprows=5, usecols='B:F')\n",
    "rawData1006_2=pd.read_excel('../ITC RUSAL/raw data/netout_1006_2019.xls',\n",
    "                    header=None, skiprows=5, usecols='B:F')"
   ]
  },
  {
   "cell_type": "code",
   "execution_count": 52,
   "metadata": {},
   "outputs": [],
   "source": [
    "# в 1003-1106 только 3 столбца, 4 и 5 совпадают с 1001, скопируем из 1001\n",
    "\n",
    "rawData1003_2[[4, 5]]=rawData1001_2[[4, 5]].copy()\n",
    "rawData1003_2.columns=columnNames_2\n",
    "\n",
    "rawData1004_2[[4, 5]]=rawData1001_2[[4, 5]].copy()\n",
    "rawData1004_2.columns=columnNames_2\n",
    "\n",
    "rawData1005_2[[4, 5]]=rawData1001_2[[4, 5]].copy()\n",
    "rawData1005_2.columns=columnNames_2\n",
    "\n",
    "rawData1006_2[[4, 5]]=rawData1001_2[[4, 5]].copy()\n",
    "rawData1006_2.columns=columnNames_2\n",
    "\n",
    "rawData1001_2.columns=columnNames_2"
   ]
  },
  {
   "cell_type": "markdown",
   "metadata": {},
   "source": [
    "# визуальная проверка корректности импорта сырых данных\n",
    "# должно быть 365 записей (по кол-ву дней в году), 5 столбцов в 1001, по 3 в остальных"
   ]
  },
  {
   "cell_type": "code",
   "execution_count": 53,
   "metadata": {},
   "outputs": [
    {
     "output_type": "execute_result",
     "data": {
      "text/plain": "   NETOUT1  NETOUT2  NETOUT3  CURRENT1  CURRENT2\n0     1400     1220     1400      78.1     193.7\n1     1400      970     1400      62.1     193.6\n2     1400     1380     1400      88.3     193.6\n3     1410     1410     1400      90.3     194.0\n4     1400     1320     1400      84.5     193.5",
      "text/html": "<div>\n<style scoped>\n    .dataframe tbody tr th:only-of-type {\n        vertical-align: middle;\n    }\n\n    .dataframe tbody tr th {\n        vertical-align: top;\n    }\n\n    .dataframe thead th {\n        text-align: right;\n    }\n</style>\n<table border=\"1\" class=\"dataframe\">\n  <thead>\n    <tr style=\"text-align: right;\">\n      <th></th>\n      <th>NETOUT1</th>\n      <th>NETOUT2</th>\n      <th>NETOUT3</th>\n      <th>CURRENT1</th>\n      <th>CURRENT2</th>\n    </tr>\n  </thead>\n  <tbody>\n    <tr>\n      <th>0</th>\n      <td>1400</td>\n      <td>1220</td>\n      <td>1400</td>\n      <td>78.1</td>\n      <td>193.7</td>\n    </tr>\n    <tr>\n      <th>1</th>\n      <td>1400</td>\n      <td>970</td>\n      <td>1400</td>\n      <td>62.1</td>\n      <td>193.6</td>\n    </tr>\n    <tr>\n      <th>2</th>\n      <td>1400</td>\n      <td>1380</td>\n      <td>1400</td>\n      <td>88.3</td>\n      <td>193.6</td>\n    </tr>\n    <tr>\n      <th>3</th>\n      <td>1410</td>\n      <td>1410</td>\n      <td>1400</td>\n      <td>90.3</td>\n      <td>194.0</td>\n    </tr>\n    <tr>\n      <th>4</th>\n      <td>1400</td>\n      <td>1320</td>\n      <td>1400</td>\n      <td>84.5</td>\n      <td>193.5</td>\n    </tr>\n  </tbody>\n</table>\n</div>"
     },
     "metadata": {},
     "execution_count": 53
    }
   ],
   "source": [
    "rawData1001_2.head()"
   ]
  },
  {
   "cell_type": "code",
   "execution_count": 54,
   "metadata": {},
   "outputs": [
    {
     "output_type": "execute_result",
     "data": {
      "text/plain": "     NETOUT1  NETOUT2  NETOUT3  CURRENT1  CURRENT2\n360     1400     1480     1400      94.8     193.5\n361     1470     1530     1400      98.0     193.6\n362     1480     1570     1400     100.6     193.4\n363     1390     1410     1400      90.5     193.4\n364     1000      980     1400      62.8     193.4",
      "text/html": "<div>\n<style scoped>\n    .dataframe tbody tr th:only-of-type {\n        vertical-align: middle;\n    }\n\n    .dataframe tbody tr th {\n        vertical-align: top;\n    }\n\n    .dataframe thead th {\n        text-align: right;\n    }\n</style>\n<table border=\"1\" class=\"dataframe\">\n  <thead>\n    <tr style=\"text-align: right;\">\n      <th></th>\n      <th>NETOUT1</th>\n      <th>NETOUT2</th>\n      <th>NETOUT3</th>\n      <th>CURRENT1</th>\n      <th>CURRENT2</th>\n    </tr>\n  </thead>\n  <tbody>\n    <tr>\n      <th>360</th>\n      <td>1400</td>\n      <td>1480</td>\n      <td>1400</td>\n      <td>94.8</td>\n      <td>193.5</td>\n    </tr>\n    <tr>\n      <th>361</th>\n      <td>1470</td>\n      <td>1530</td>\n      <td>1400</td>\n      <td>98.0</td>\n      <td>193.6</td>\n    </tr>\n    <tr>\n      <th>362</th>\n      <td>1480</td>\n      <td>1570</td>\n      <td>1400</td>\n      <td>100.6</td>\n      <td>193.4</td>\n    </tr>\n    <tr>\n      <th>363</th>\n      <td>1390</td>\n      <td>1410</td>\n      <td>1400</td>\n      <td>90.5</td>\n      <td>193.4</td>\n    </tr>\n    <tr>\n      <th>364</th>\n      <td>1000</td>\n      <td>980</td>\n      <td>1400</td>\n      <td>62.8</td>\n      <td>193.4</td>\n    </tr>\n  </tbody>\n</table>\n</div>"
     },
     "metadata": {},
     "execution_count": 54
    }
   ],
   "source": [
    "rawData1001_2.tail()"
   ]
  },
  {
   "cell_type": "code",
   "execution_count": 55,
   "metadata": {},
   "outputs": [
    {
     "output_type": "stream",
     "name": "stdout",
     "text": "<class 'pandas.core.frame.DataFrame'>\nRangeIndex: 365 entries, 0 to 364\nData columns (total 5 columns):\nNETOUT1     365 non-null int64\nNETOUT2     365 non-null int64\nNETOUT3     365 non-null int64\nCURRENT1    365 non-null float64\nCURRENT2    365 non-null float64\ndtypes: float64(2), int64(3)\nmemory usage: 14.4 KB\n"
    }
   ],
   "source": [
    "rawData1001_2.info()"
   ]
  },
  {
   "cell_type": "code",
   "execution_count": 56,
   "metadata": {},
   "outputs": [
    {
     "output_type": "execute_result",
     "data": {
      "text/plain": "   NETOUT1  NETOUT2  NETOUT3  CURRENT1  CURRENT2\n0     1400     1370     1400      78.1     193.7\n1     1400     1370     1400      62.1     193.6\n2     1430     1420     1400      88.3     193.6\n3     1380     1380     1400      90.3     194.0\n4     1390     1410     1400      84.5     193.5",
      "text/html": "<div>\n<style scoped>\n    .dataframe tbody tr th:only-of-type {\n        vertical-align: middle;\n    }\n\n    .dataframe tbody tr th {\n        vertical-align: top;\n    }\n\n    .dataframe thead th {\n        text-align: right;\n    }\n</style>\n<table border=\"1\" class=\"dataframe\">\n  <thead>\n    <tr style=\"text-align: right;\">\n      <th></th>\n      <th>NETOUT1</th>\n      <th>NETOUT2</th>\n      <th>NETOUT3</th>\n      <th>CURRENT1</th>\n      <th>CURRENT2</th>\n    </tr>\n  </thead>\n  <tbody>\n    <tr>\n      <th>0</th>\n      <td>1400</td>\n      <td>1370</td>\n      <td>1400</td>\n      <td>78.1</td>\n      <td>193.7</td>\n    </tr>\n    <tr>\n      <th>1</th>\n      <td>1400</td>\n      <td>1370</td>\n      <td>1400</td>\n      <td>62.1</td>\n      <td>193.6</td>\n    </tr>\n    <tr>\n      <th>2</th>\n      <td>1430</td>\n      <td>1420</td>\n      <td>1400</td>\n      <td>88.3</td>\n      <td>193.6</td>\n    </tr>\n    <tr>\n      <th>3</th>\n      <td>1380</td>\n      <td>1380</td>\n      <td>1400</td>\n      <td>90.3</td>\n      <td>194.0</td>\n    </tr>\n    <tr>\n      <th>4</th>\n      <td>1390</td>\n      <td>1410</td>\n      <td>1400</td>\n      <td>84.5</td>\n      <td>193.5</td>\n    </tr>\n  </tbody>\n</table>\n</div>"
     },
     "metadata": {},
     "execution_count": 56
    }
   ],
   "source": [
    "rawData1003_2.head()"
   ]
  },
  {
   "cell_type": "code",
   "execution_count": 57,
   "metadata": {},
   "outputs": [
    {
     "output_type": "execute_result",
     "data": {
      "text/plain": "     NETOUT1  NETOUT2  NETOUT3  CURRENT1  CURRENT2\n360     1440     1510     1400      94.8     193.5\n361     1420     1350     1400      98.0     193.6\n362     1480     1510     1400     100.6     193.4\n363     1600     1610     1400      90.5     193.4\n364     1680      560     1400      62.8     193.4",
      "text/html": "<div>\n<style scoped>\n    .dataframe tbody tr th:only-of-type {\n        vertical-align: middle;\n    }\n\n    .dataframe tbody tr th {\n        vertical-align: top;\n    }\n\n    .dataframe thead th {\n        text-align: right;\n    }\n</style>\n<table border=\"1\" class=\"dataframe\">\n  <thead>\n    <tr style=\"text-align: right;\">\n      <th></th>\n      <th>NETOUT1</th>\n      <th>NETOUT2</th>\n      <th>NETOUT3</th>\n      <th>CURRENT1</th>\n      <th>CURRENT2</th>\n    </tr>\n  </thead>\n  <tbody>\n    <tr>\n      <th>360</th>\n      <td>1440</td>\n      <td>1510</td>\n      <td>1400</td>\n      <td>94.8</td>\n      <td>193.5</td>\n    </tr>\n    <tr>\n      <th>361</th>\n      <td>1420</td>\n      <td>1350</td>\n      <td>1400</td>\n      <td>98.0</td>\n      <td>193.6</td>\n    </tr>\n    <tr>\n      <th>362</th>\n      <td>1480</td>\n      <td>1510</td>\n      <td>1400</td>\n      <td>100.6</td>\n      <td>193.4</td>\n    </tr>\n    <tr>\n      <th>363</th>\n      <td>1600</td>\n      <td>1610</td>\n      <td>1400</td>\n      <td>90.5</td>\n      <td>193.4</td>\n    </tr>\n    <tr>\n      <th>364</th>\n      <td>1680</td>\n      <td>560</td>\n      <td>1400</td>\n      <td>62.8</td>\n      <td>193.4</td>\n    </tr>\n  </tbody>\n</table>\n</div>"
     },
     "metadata": {},
     "execution_count": 57
    }
   ],
   "source": [
    "rawData1003_2.tail()"
   ]
  },
  {
   "cell_type": "code",
   "execution_count": 58,
   "metadata": {},
   "outputs": [
    {
     "output_type": "stream",
     "name": "stdout",
     "text": "<class 'pandas.core.frame.DataFrame'>\nRangeIndex: 365 entries, 0 to 364\nData columns (total 5 columns):\nNETOUT1     365 non-null int64\nNETOUT2     365 non-null int64\nNETOUT3     365 non-null int64\nCURRENT1    365 non-null float64\nCURRENT2    365 non-null float64\ndtypes: float64(2), int64(3)\nmemory usage: 14.4 KB\n"
    }
   ],
   "source": [
    "rawData1003_2.info()"
   ]
  },
  {
   "cell_type": "code",
   "execution_count": 59,
   "metadata": {},
   "outputs": [
    {
     "output_type": "execute_result",
     "data": {
      "text/plain": "   NETOUT1  NETOUT2  NETOUT3  CURRENT1  CURRENT2\n0     1410     1370     1400      78.1     193.7\n1     1390     1360     1400      62.1     193.6\n2     1450     1450     1400      88.3     193.6\n3     1390     1410     1400      90.3     194.0\n4     1410     1620     1400      84.5     193.5",
      "text/html": "<div>\n<style scoped>\n    .dataframe tbody tr th:only-of-type {\n        vertical-align: middle;\n    }\n\n    .dataframe tbody tr th {\n        vertical-align: top;\n    }\n\n    .dataframe thead th {\n        text-align: right;\n    }\n</style>\n<table border=\"1\" class=\"dataframe\">\n  <thead>\n    <tr style=\"text-align: right;\">\n      <th></th>\n      <th>NETOUT1</th>\n      <th>NETOUT2</th>\n      <th>NETOUT3</th>\n      <th>CURRENT1</th>\n      <th>CURRENT2</th>\n    </tr>\n  </thead>\n  <tbody>\n    <tr>\n      <th>0</th>\n      <td>1410</td>\n      <td>1370</td>\n      <td>1400</td>\n      <td>78.1</td>\n      <td>193.7</td>\n    </tr>\n    <tr>\n      <th>1</th>\n      <td>1390</td>\n      <td>1360</td>\n      <td>1400</td>\n      <td>62.1</td>\n      <td>193.6</td>\n    </tr>\n    <tr>\n      <th>2</th>\n      <td>1450</td>\n      <td>1450</td>\n      <td>1400</td>\n      <td>88.3</td>\n      <td>193.6</td>\n    </tr>\n    <tr>\n      <th>3</th>\n      <td>1390</td>\n      <td>1410</td>\n      <td>1400</td>\n      <td>90.3</td>\n      <td>194.0</td>\n    </tr>\n    <tr>\n      <th>4</th>\n      <td>1410</td>\n      <td>1620</td>\n      <td>1400</td>\n      <td>84.5</td>\n      <td>193.5</td>\n    </tr>\n  </tbody>\n</table>\n</div>"
     },
     "metadata": {},
     "execution_count": 59
    }
   ],
   "source": [
    "rawData1004_2.head()"
   ]
  },
  {
   "cell_type": "code",
   "execution_count": 60,
   "metadata": {},
   "outputs": [
    {
     "output_type": "execute_result",
     "data": {
      "text/plain": "     NETOUT1  NETOUT2  NETOUT3  CURRENT1  CURRENT2\n360     1400     1260     1400      94.8     193.5\n361     1400     1350     1400      98.0     193.6\n362     1420     1520     1400     100.6     193.4\n363     1370     1390     1400      90.5     193.4\n364     1350     1380     1400      62.8     193.4",
      "text/html": "<div>\n<style scoped>\n    .dataframe tbody tr th:only-of-type {\n        vertical-align: middle;\n    }\n\n    .dataframe tbody tr th {\n        vertical-align: top;\n    }\n\n    .dataframe thead th {\n        text-align: right;\n    }\n</style>\n<table border=\"1\" class=\"dataframe\">\n  <thead>\n    <tr style=\"text-align: right;\">\n      <th></th>\n      <th>NETOUT1</th>\n      <th>NETOUT2</th>\n      <th>NETOUT3</th>\n      <th>CURRENT1</th>\n      <th>CURRENT2</th>\n    </tr>\n  </thead>\n  <tbody>\n    <tr>\n      <th>360</th>\n      <td>1400</td>\n      <td>1260</td>\n      <td>1400</td>\n      <td>94.8</td>\n      <td>193.5</td>\n    </tr>\n    <tr>\n      <th>361</th>\n      <td>1400</td>\n      <td>1350</td>\n      <td>1400</td>\n      <td>98.0</td>\n      <td>193.6</td>\n    </tr>\n    <tr>\n      <th>362</th>\n      <td>1420</td>\n      <td>1520</td>\n      <td>1400</td>\n      <td>100.6</td>\n      <td>193.4</td>\n    </tr>\n    <tr>\n      <th>363</th>\n      <td>1370</td>\n      <td>1390</td>\n      <td>1400</td>\n      <td>90.5</td>\n      <td>193.4</td>\n    </tr>\n    <tr>\n      <th>364</th>\n      <td>1350</td>\n      <td>1380</td>\n      <td>1400</td>\n      <td>62.8</td>\n      <td>193.4</td>\n    </tr>\n  </tbody>\n</table>\n</div>"
     },
     "metadata": {},
     "execution_count": 60
    }
   ],
   "source": [
    "rawData1004_2.tail()"
   ]
  },
  {
   "cell_type": "code",
   "execution_count": 61,
   "metadata": {},
   "outputs": [
    {
     "output_type": "stream",
     "name": "stdout",
     "text": "<class 'pandas.core.frame.DataFrame'>\nRangeIndex: 365 entries, 0 to 364\nData columns (total 5 columns):\nNETOUT1     365 non-null int64\nNETOUT2     365 non-null int64\nNETOUT3     365 non-null int64\nCURRENT1    365 non-null float64\nCURRENT2    365 non-null float64\ndtypes: float64(2), int64(3)\nmemory usage: 14.4 KB\n"
    }
   ],
   "source": [
    "rawData1004_2.info()"
   ]
  },
  {
   "cell_type": "code",
   "execution_count": 62,
   "metadata": {},
   "outputs": [
    {
     "output_type": "execute_result",
     "data": {
      "text/plain": "   NETOUT1  NETOUT2  NETOUT3  CURRENT1  CURRENT2\n0     1680     1470     1400      78.1     193.7\n1     1410     1380     1400      62.1     193.6\n2     1380     1370     1400      88.3     193.6\n3     1390     1410     1400      90.3     194.0\n4     1400        0     1400      84.5     193.5",
      "text/html": "<div>\n<style scoped>\n    .dataframe tbody tr th:only-of-type {\n        vertical-align: middle;\n    }\n\n    .dataframe tbody tr th {\n        vertical-align: top;\n    }\n\n    .dataframe thead th {\n        text-align: right;\n    }\n</style>\n<table border=\"1\" class=\"dataframe\">\n  <thead>\n    <tr style=\"text-align: right;\">\n      <th></th>\n      <th>NETOUT1</th>\n      <th>NETOUT2</th>\n      <th>NETOUT3</th>\n      <th>CURRENT1</th>\n      <th>CURRENT2</th>\n    </tr>\n  </thead>\n  <tbody>\n    <tr>\n      <th>0</th>\n      <td>1680</td>\n      <td>1470</td>\n      <td>1400</td>\n      <td>78.1</td>\n      <td>193.7</td>\n    </tr>\n    <tr>\n      <th>1</th>\n      <td>1410</td>\n      <td>1380</td>\n      <td>1400</td>\n      <td>62.1</td>\n      <td>193.6</td>\n    </tr>\n    <tr>\n      <th>2</th>\n      <td>1380</td>\n      <td>1370</td>\n      <td>1400</td>\n      <td>88.3</td>\n      <td>193.6</td>\n    </tr>\n    <tr>\n      <th>3</th>\n      <td>1390</td>\n      <td>1410</td>\n      <td>1400</td>\n      <td>90.3</td>\n      <td>194.0</td>\n    </tr>\n    <tr>\n      <th>4</th>\n      <td>1400</td>\n      <td>0</td>\n      <td>1400</td>\n      <td>84.5</td>\n      <td>193.5</td>\n    </tr>\n  </tbody>\n</table>\n</div>"
     },
     "metadata": {},
     "execution_count": 62
    }
   ],
   "source": [
    "rawData1005_2.head()"
   ]
  },
  {
   "cell_type": "code",
   "execution_count": 63,
   "metadata": {},
   "outputs": [
    {
     "output_type": "execute_result",
     "data": {
      "text/plain": "     NETOUT1  NETOUT2  NETOUT3  CURRENT1  CURRENT2\n360        0     1410     1400      94.8     193.5\n361     1460     1490     1400      98.0     193.6\n362     1680     1670     1400     100.6     193.4\n363     1630     1670     1400      90.5     193.4\n364     1410      470     1400      62.8     193.4",
      "text/html": "<div>\n<style scoped>\n    .dataframe tbody tr th:only-of-type {\n        vertical-align: middle;\n    }\n\n    .dataframe tbody tr th {\n        vertical-align: top;\n    }\n\n    .dataframe thead th {\n        text-align: right;\n    }\n</style>\n<table border=\"1\" class=\"dataframe\">\n  <thead>\n    <tr style=\"text-align: right;\">\n      <th></th>\n      <th>NETOUT1</th>\n      <th>NETOUT2</th>\n      <th>NETOUT3</th>\n      <th>CURRENT1</th>\n      <th>CURRENT2</th>\n    </tr>\n  </thead>\n  <tbody>\n    <tr>\n      <th>360</th>\n      <td>0</td>\n      <td>1410</td>\n      <td>1400</td>\n      <td>94.8</td>\n      <td>193.5</td>\n    </tr>\n    <tr>\n      <th>361</th>\n      <td>1460</td>\n      <td>1490</td>\n      <td>1400</td>\n      <td>98.0</td>\n      <td>193.6</td>\n    </tr>\n    <tr>\n      <th>362</th>\n      <td>1680</td>\n      <td>1670</td>\n      <td>1400</td>\n      <td>100.6</td>\n      <td>193.4</td>\n    </tr>\n    <tr>\n      <th>363</th>\n      <td>1630</td>\n      <td>1670</td>\n      <td>1400</td>\n      <td>90.5</td>\n      <td>193.4</td>\n    </tr>\n    <tr>\n      <th>364</th>\n      <td>1410</td>\n      <td>470</td>\n      <td>1400</td>\n      <td>62.8</td>\n      <td>193.4</td>\n    </tr>\n  </tbody>\n</table>\n</div>"
     },
     "metadata": {},
     "execution_count": 63
    }
   ],
   "source": [
    "rawData1005_2.tail()"
   ]
  },
  {
   "cell_type": "code",
   "execution_count": 64,
   "metadata": {},
   "outputs": [
    {
     "output_type": "stream",
     "name": "stdout",
     "text": "<class 'pandas.core.frame.DataFrame'>\nRangeIndex: 365 entries, 0 to 364\nData columns (total 5 columns):\nNETOUT1     365 non-null int64\nNETOUT2     365 non-null int64\nNETOUT3     365 non-null int64\nCURRENT1    365 non-null float64\nCURRENT2    365 non-null float64\ndtypes: float64(2), int64(3)\nmemory usage: 14.4 KB\n"
    }
   ],
   "source": [
    "rawData1005_2.info()"
   ]
  },
  {
   "cell_type": "code",
   "execution_count": 65,
   "metadata": {},
   "outputs": [
    {
     "output_type": "execute_result",
     "data": {
      "text/plain": "   NETOUT1  NETOUT2  NETOUT3  CURRENT1  CURRENT2\n0     1680     1680     1400      78.1     193.7\n1     1400     1000     1400      62.1     193.6\n2     1400     1740     1400      88.3     193.6\n3     1430     1310     1400      90.3     194.0\n4     1640     1650     1400      84.5     193.5",
      "text/html": "<div>\n<style scoped>\n    .dataframe tbody tr th:only-of-type {\n        vertical-align: middle;\n    }\n\n    .dataframe tbody tr th {\n        vertical-align: top;\n    }\n\n    .dataframe thead th {\n        text-align: right;\n    }\n</style>\n<table border=\"1\" class=\"dataframe\">\n  <thead>\n    <tr style=\"text-align: right;\">\n      <th></th>\n      <th>NETOUT1</th>\n      <th>NETOUT2</th>\n      <th>NETOUT3</th>\n      <th>CURRENT1</th>\n      <th>CURRENT2</th>\n    </tr>\n  </thead>\n  <tbody>\n    <tr>\n      <th>0</th>\n      <td>1680</td>\n      <td>1680</td>\n      <td>1400</td>\n      <td>78.1</td>\n      <td>193.7</td>\n    </tr>\n    <tr>\n      <th>1</th>\n      <td>1400</td>\n      <td>1000</td>\n      <td>1400</td>\n      <td>62.1</td>\n      <td>193.6</td>\n    </tr>\n    <tr>\n      <th>2</th>\n      <td>1400</td>\n      <td>1740</td>\n      <td>1400</td>\n      <td>88.3</td>\n      <td>193.6</td>\n    </tr>\n    <tr>\n      <th>3</th>\n      <td>1430</td>\n      <td>1310</td>\n      <td>1400</td>\n      <td>90.3</td>\n      <td>194.0</td>\n    </tr>\n    <tr>\n      <th>4</th>\n      <td>1640</td>\n      <td>1650</td>\n      <td>1400</td>\n      <td>84.5</td>\n      <td>193.5</td>\n    </tr>\n  </tbody>\n</table>\n</div>"
     },
     "metadata": {},
     "execution_count": 65
    }
   ],
   "source": [
    "rawData1006_2.head()"
   ]
  },
  {
   "cell_type": "code",
   "execution_count": 66,
   "metadata": {},
   "outputs": [
    {
     "output_type": "execute_result",
     "data": {
      "text/plain": "     NETOUT1  NETOUT2  NETOUT3  CURRENT1  CURRENT2\n360     1750     1680     1680      94.8     193.5\n361     1680     1600     1680      98.0     193.6\n362     1370     1470     1400     100.6     193.4\n363     1640     1660     1400      90.5     193.4\n364     9920     3340     1400      62.8     193.4",
      "text/html": "<div>\n<style scoped>\n    .dataframe tbody tr th:only-of-type {\n        vertical-align: middle;\n    }\n\n    .dataframe tbody tr th {\n        vertical-align: top;\n    }\n\n    .dataframe thead th {\n        text-align: right;\n    }\n</style>\n<table border=\"1\" class=\"dataframe\">\n  <thead>\n    <tr style=\"text-align: right;\">\n      <th></th>\n      <th>NETOUT1</th>\n      <th>NETOUT2</th>\n      <th>NETOUT3</th>\n      <th>CURRENT1</th>\n      <th>CURRENT2</th>\n    </tr>\n  </thead>\n  <tbody>\n    <tr>\n      <th>360</th>\n      <td>1750</td>\n      <td>1680</td>\n      <td>1680</td>\n      <td>94.8</td>\n      <td>193.5</td>\n    </tr>\n    <tr>\n      <th>361</th>\n      <td>1680</td>\n      <td>1600</td>\n      <td>1680</td>\n      <td>98.0</td>\n      <td>193.6</td>\n    </tr>\n    <tr>\n      <th>362</th>\n      <td>1370</td>\n      <td>1470</td>\n      <td>1400</td>\n      <td>100.6</td>\n      <td>193.4</td>\n    </tr>\n    <tr>\n      <th>363</th>\n      <td>1640</td>\n      <td>1660</td>\n      <td>1400</td>\n      <td>90.5</td>\n      <td>193.4</td>\n    </tr>\n    <tr>\n      <th>364</th>\n      <td>9920</td>\n      <td>3340</td>\n      <td>1400</td>\n      <td>62.8</td>\n      <td>193.4</td>\n    </tr>\n  </tbody>\n</table>\n</div>"
     },
     "metadata": {},
     "execution_count": 66
    }
   ],
   "source": [
    "rawData1006_2.tail()"
   ]
  },
  {
   "cell_type": "code",
   "execution_count": 67,
   "metadata": {},
   "outputs": [
    {
     "output_type": "stream",
     "name": "stdout",
     "text": "<class 'pandas.core.frame.DataFrame'>\nRangeIndex: 365 entries, 0 to 364\nData columns (total 5 columns):\nNETOUT1     365 non-null int64\nNETOUT2     365 non-null int64\nNETOUT3     365 non-null int64\nCURRENT1    365 non-null float64\nCURRENT2    365 non-null float64\ndtypes: float64(2), int64(3)\nmemory usage: 14.4 KB\n"
    }
   ],
   "source": [
    "rawData1006_2.info()"
   ]
  },
  {
   "cell_type": "markdown",
   "metadata": {},
   "source": [
    "# сохраним все в отдельные csv\n",
    "## <i> имена:\"rawDataNetoutName.csv\" </i>"
   ]
  },
  {
   "cell_type": "markdown",
   "metadata": {},
   "source": [
    "## <i> Замечание: </i>\n",
    "Поскольку 4 набора данных выливки не содержат 2 последних столбца данных по току, данные по току не удастся использовать при построении обобщенной модели (только частной для 1001). В обобщенной выборке исключим эти 2 столбца."
   ]
  },
  {
   "cell_type": "code",
   "execution_count": 68,
   "metadata": {},
   "outputs": [],
   "source": [
    "rawData1001_2.to_csv('../ITC RUSAL/baths_v2/rawDataNetout1001.csv', index=False)\n",
    "rawData1003_2.to_csv('../ITC RUSAL/baths_v2/rawDataNetout1003.csv', index=False)\n",
    "rawData1004_2.to_csv('../ITC RUSAL/baths_v2/rawDataNetout1004.csv', index=False)\n",
    "rawData1005_2.to_csv('../ITC RUSAL/baths_v2/rawDataNetout1005.csv', index=False)\n",
    "rawData1006_2.to_csv('../ITC RUSAL/baths_v2/rawDataNetout1006.csv', index=False)"
   ]
  },
  {
   "cell_type": "markdown",
   "metadata": {},
   "source": [
    "<hr>"
   ]
  },
  {
   "cell_type": "markdown",
   "metadata": {},
   "source": [
    "# Сформируем наборы из обоих массивов по каждой ванне"
   ]
  },
  {
   "cell_type": "code",
   "execution_count": 69,
   "metadata": {},
   "outputs": [],
   "source": [
    "rawFullData1001=pd.concat([rawData1001, rawData1001_2], axis=1, sort=False)\n",
    "rawFullData1003=pd.concat([rawData1003, rawData1003_2], axis=1, sort=False)\n",
    "rawFullData1004=pd.concat([rawData1004, rawData1004_2], axis=1, sort=False)\n",
    "rawFullData1005=pd.concat([rawData1005, rawData1005_2], axis=1, sort=False)\n",
    "rawFullData1006=pd.concat([rawData1006, rawData1006_2], axis=1, sort=False)"
   ]
  },
  {
   "cell_type": "markdown",
   "metadata": {},
   "source": [
    "# сохраним все в отдельные csv\n",
    "## <i> имена:\"rawDataFullName.csv\" </i>"
   ]
  },
  {
   "cell_type": "code",
   "execution_count": 71,
   "metadata": {},
   "outputs": [],
   "source": [
    "rawFullData1001.to_csv('../ITC RUSAL/baths_v2/rawDataFull1001.csv', index=False)\n",
    "rawFullData1003.to_csv('../ITC RUSAL/baths_v2/rawDataFull1003.csv', index=False)\n",
    "rawFullData1004.to_csv('../ITC RUSAL/baths_v2/rawDataFull1004.csv', index=False)\n",
    "rawFullData1005.to_csv('../ITC RUSAL/baths_v2/rawDataFull1005.csv', index=False)\n",
    "rawFullData1006.to_csv('../ITC RUSAL/baths_v2/rawDataFull1006.csv', index=False)"
   ]
  }
 ],
 "metadata": {
  "language_info": {
   "codemirror_mode": {
    "name": "ipython",
    "version": 3
   },
   "file_extension": ".py",
   "mimetype": "text/x-python",
   "name": "python",
   "nbconvert_exporter": "python",
   "pygments_lexer": "ipython3",
   "version": "3.7.1-final"
  },
  "orig_nbformat": 2,
  "kernelspec": {
   "name": "python37164bitbasecondad595ad4b8c4649a69f4710a7a07e8a6b",
   "display_name": "Python 3.7.1 64-bit ('base': conda)"
  }
 },
 "nbformat": 4,
 "nbformat_minor": 2
}